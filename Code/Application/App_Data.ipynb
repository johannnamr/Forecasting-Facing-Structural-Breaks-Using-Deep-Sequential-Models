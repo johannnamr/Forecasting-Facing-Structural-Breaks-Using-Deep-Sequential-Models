{
 "cells": [
  {
   "cell_type": "markdown",
   "id": "1b9df58b",
   "metadata": {},
   "source": [
    "# Data Preparation"
   ]
  },
  {
   "cell_type": "code",
   "execution_count": 1,
   "id": "575c31a6",
   "metadata": {},
   "outputs": [],
   "source": [
    "import numpy as np\n",
    "import matplotlib.pyplot as plt\n",
    "import pandas as pd\n",
    "from sklearn.model_selection import train_test_split"
   ]
  },
  {
   "cell_type": "code",
   "execution_count": 2,
   "id": "f8185330",
   "metadata": {},
   "outputs": [],
   "source": [
    "path = 'C:/Users/Meier/Institut für Statistik Dropbox/Johanna Meier/Structural Breaks + DL/Application/Data/'"
   ]
  },
  {
   "cell_type": "code",
   "execution_count": 52,
   "id": "957a3b34",
   "metadata": {},
   "outputs": [],
   "source": [
    "data_name = 'Grid/grid_2022-09-18.csv'\n",
    "#data_name = 'Grid/grid_2022-10-01.csv'\n",
    "#data_name = 'Grid/grid_2022-10-08.csv'\n",
    "#data_name = 'Grid/grid_2023-01-08.csv'"
   ]
  },
  {
   "cell_type": "code",
   "execution_count": 53,
   "id": "549360e7",
   "metadata": {},
   "outputs": [],
   "source": [
    "df = pd.read_csv(path+data_name)\n",
    "df.columns = ['Date', 'Voltage']\n",
    "df['Date'] = pd.to_datetime(df['Date'])"
   ]
  },
  {
   "cell_type": "code",
   "execution_count": 38,
   "id": "b51a3d9b",
   "metadata": {},
   "outputs": [],
   "source": [
    "#print(df[df['Date']=='2022-09-18 17:43:00'])\n",
    "#print(df[df['Date']=='2022-10-01 19:07:00'])\n",
    "#print(df[df['Date']=='2022-10-08 20:10:00'])\n",
    "#print(df[df['Date']=='2023-01-08 18:36:00'])"
   ]
  },
  {
   "cell_type": "markdown",
   "id": "efb6f3d9",
   "metadata": {},
   "source": [
    "Generate time lags and split data:"
   ]
  },
  {
   "cell_type": "code",
   "execution_count": 39,
   "id": "831ad9a4",
   "metadata": {},
   "outputs": [],
   "source": [
    "def generate_time_lags(df, col_name, n_lags):\n",
    "    df_n = df[[col_name]].copy()\n",
    "    for n in range(1, n_lags + 1):\n",
    "        df_n[f\"lag{n}\"] = df_n[col_name].shift(n)\n",
    "    df_n = df_n.iloc[n_lags:]\n",
    "    return df_n.reset_index(drop=True)"
   ]
  },
  {
   "cell_type": "code",
   "execution_count": 40,
   "id": "f2ef6a71",
   "metadata": {},
   "outputs": [],
   "source": [
    "def feature_label_split(df, target_col):\n",
    "    y = df[[target_col]]\n",
    "    X = df.drop(columns=[target_col])\n",
    "    return X, y"
   ]
  },
  {
   "cell_type": "code",
   "execution_count": 41,
   "id": "7b5e77b4",
   "metadata": {},
   "outputs": [],
   "source": [
    "def split_data(df, path, train_size, lags=1):\n",
    "    \n",
    "    for i in range(1,len(df.columns)):\n",
    "        # get and save splits\n",
    "        df_generated = generate_time_lags(df, df.columns[i], lags)\n",
    "        X, y = feature_label_split(df_generated, df.columns[i])\n",
    "        X_train, X_rest, y_train, y_rest = train_test_split(X, y, train_size=train_size, shuffle=False)\n",
    "        X_val, X_test, y_val, y_test = train_test_split(X_rest, y_rest, test_size=2/3, shuffle=False)\n",
    "        print(X_train.shape, X_val.shape, X_test.shape, y_train.shape, y_val.shape, y_test.shape)\n",
    "        plt.plot(X_train)\n",
    "        plt.plot(np.concatenate((np.tile(np.nan,X_train.shape),X_val),axis=0))\n",
    "        plt.plot(np.concatenate((np.tile(np.nan,X_train.shape), np.tile(np.nan,X_val.shape),X_test),axis=0))\n",
    "        plt.show()\n",
    "        #np.savez(path+'Grid/voltage_%s.npz' %str(df['Date'].dt.date[0]), X_train=X_train, X_val=X_val, X_test=X_test, y_train=y_train, y_val=y_val, y_test=y_test)\n",
    "    \n",
    "    del df"
   ]
  },
  {
   "cell_type": "code",
   "execution_count": 54,
   "id": "b9f7ae17",
   "metadata": {},
   "outputs": [
    {
     "name": "stdout",
     "output_type": "stream",
     "text": [
      "(1295, 1) (48, 1) (96, 1) (1295, 1) (48, 1) (96, 1)\n"
     ]
    },
    {
     "data": {
      "image/png": "[encoded data removed]",
      "text/plain": [
       "<Figure size 432x288 with 1 Axes>"
      ]
     },
     "metadata": {
      "needs_background": "light"
     },
     "output_type": "display_data"
    }
   ],
   "source": [
    "split_data(df,path,0.9)"
   ]
  },
  {
   "cell_type": "code",
   "execution_count": 64,
   "id": "1d7f706f",
   "metadata": {},
   "outputs": [
    {
     "name": "stdout",
     "output_type": "stream",
     "text": [
      "2022-09-18 21:34:00\n"
     ]
    }
   ],
   "source": [
    "print(df['Date'][0.9*(len(df['Date']))-2]) # 90% training data - 1 lag - index adjustment"
   ]
  },
  {
   "cell_type": "code",
   "execution_count": null,
   "id": "eace665d",
   "metadata": {},
   "outputs": [],
   "source": []
  }
 ],
 "metadata": {
  "kernelspec": {
   "display_name": "Python 3 (ipykernel)",
   "language": "python",
   "name": "python3"
  },
  "language_info": {
   "codemirror_mode": {
    "name": "ipython",
    "version": 3
   },
   "file_extension": ".py",
   "mimetype": "text/x-python",
   "name": "python",
   "nbconvert_exporter": "python",
   "pygments_lexer": "ipython3",
   "version": "3.7.12"
  }
 },
 "nbformat": 4,
 "nbformat_minor": 5
}
