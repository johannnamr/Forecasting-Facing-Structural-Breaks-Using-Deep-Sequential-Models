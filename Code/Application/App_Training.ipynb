{
 "cells": [
  {
   "cell_type": "markdown",
   "id": "4a457064",
   "metadata": {},
   "source": [
    "# Application"
   ]
  },
  {
   "cell_type": "code",
   "execution_count": 1,
   "id": "b7f12a50",
   "metadata": {},
   "outputs": [],
   "source": [
    "import numpy as np\n",
    "import matplotlib.pyplot as plt\n",
    "import pandas as pd\n",
    "import itertools\n",
    "import time\n",
    "from sklearn.model_selection import train_test_split\n",
    "import time"
   ]
  },
  {
   "cell_type": "code",
   "execution_count": 19,
   "id": "8099f1ee",
   "metadata": {},
   "outputs": [],
   "source": [
    "from copy import deepcopy\n",
    "from sklearn.preprocessing import MinMaxScaler\n",
    "from sklearn.metrics import mean_absolute_error, mean_squared_error, r2_score, mean_absolute_percentage_error\n",
    "import torch\n",
    "import torch.nn as nn\n",
    "from torch.utils.data import TensorDataset, DataLoader\n",
    "import torch.optim as optim\n",
    "from datetime import datetime"
   ]
  },
  {
   "cell_type": "markdown",
   "id": "86c30f77",
   "metadata": {},
   "source": [
    "Set parameters:"
   ]
  },
  {
   "cell_type": "code",
   "execution_count": 3,
   "id": "b2dfc253",
   "metadata": {},
   "outputs": [],
   "source": [
    "path = 'C:/Users/Meier/Institut für Statistik Dropbox/Johanna Meier/Structural Breaks + DL/Application/' "
   ]
  },
  {
   "cell_type": "code",
   "execution_count": 4,
   "id": "1566354f",
   "metadata": {},
   "outputs": [],
   "source": [
    "data_name = 'gridfreqs_2022-10-01_Loc1'\n",
    "#data_name = 'gridfreqs_2022-10-01_Loc2'\n",
    "#data_name = 'gridfreqs_2022-10-08_Loc1'\n",
    "#data_name = 'gridfreqs_2022-10-08_Loc2'"
   ]
  },
  {
   "cell_type": "code",
   "execution_count": 5,
   "id": "3948b59d",
   "metadata": {},
   "outputs": [],
   "source": [
    "model_name = 'RNN' # 'RNN', 'LSTM', 'GRU'"
   ]
  },
  {
   "cell_type": "code",
   "execution_count": 6,
   "id": "64597352",
   "metadata": {},
   "outputs": [],
   "source": [
    "test_size = 0.1           # proportion of test set\n",
    "lags = 1                  # number of lags as features"
   ]
  },
  {
   "cell_type": "code",
   "execution_count": 7,
   "id": "0f740180",
   "metadata": {},
   "outputs": [],
   "source": [
    "batch_size = 128\n",
    "n_epochs = 500"
   ]
  },
  {
   "cell_type": "code",
   "execution_count": 8,
   "id": "2b516f78",
   "metadata": {},
   "outputs": [],
   "source": [
    "# set parameters\n",
    "input_dim = lags                  # number of lagged features in X\n",
    "hidden_dim = 10                   # number of hidden nodes per layer\n",
    "layer_dim = 1                     # number of layers\n",
    "output_dim = 1                    # output dimension (1 for univariate output)\n",
    "dropout = 0                       # dropout proportion (only before the last sequential layer)\n",
    "learning_rate = 1e-3              # learning rate for Adam optimizer\n",
    "weight_decay = 1e-6               # weight decay for Adam optimizer\n",
    "\n",
    "# save model parameters in dict\n",
    "model_params = {'input_dim': input_dim, 'hidden_dim' : hidden_dim,'layer_dim' : layer_dim, 'output_dim' : output_dim, 'dropout_prob' : dropout}        "
   ]
  },
  {
   "cell_type": "markdown",
   "id": "925b5ce4",
   "metadata": {},
   "source": [
    "Models:"
   ]
  },
  {
   "cell_type": "code",
   "execution_count": 9,
   "id": "ea412c88",
   "metadata": {},
   "outputs": [],
   "source": [
    "class RNNModel(nn.Module):\n",
    "    def __init__(self, input_dim, hidden_dim, layer_dim, output_dim, dropout_prob):\n",
    "        super(RNNModel, self).__init__()\n",
    "\n",
    "        # Defining the number of layers and the nodes in each layer\n",
    "        self.hidden_dim = hidden_dim\n",
    "        self.layer_dim = layer_dim\n",
    "\n",
    "        # RNN layers\n",
    "        self.rnn = nn.RNN(\n",
    "            input_dim, hidden_dim, layer_dim, batch_first=True, dropout=dropout_prob\n",
    "        )\n",
    "        # Fully connected layer\n",
    "        self.fc = nn.Linear(hidden_dim, output_dim)\n",
    "\n",
    "    def forward(self, x):\n",
    "        # Initializing hidden state for first input with zeros\n",
    "        h0 = torch.zeros(self.layer_dim, x.size(0), self.hidden_dim, device=x.device).requires_grad_()\n",
    "\n",
    "        # Forward propagation by passing in the input and hidden state into the model\n",
    "        self.rnn.flatten_parameters() # ------------------------------------------------------------------\n",
    "        out, h0 = self.rnn(x, h0.detach())\n",
    "\n",
    "        # Reshaping the outputs in the shape of (batch_size, seq_length, hidden_size)\n",
    "        # so that it can fit into the fully connected layer\n",
    "        out = out[:, -1, :]\n",
    "\n",
    "        # Convert the final state to our desired output shape (batch_size, output_dim)\n",
    "        out = self.fc(out)\n",
    "        return out\n",
    "    \n",
    "class LSTMModel(nn.Module):\n",
    "    def __init__(self, input_dim, hidden_dim, layer_dim, output_dim, dropout_prob):\n",
    "        super(LSTMModel, self).__init__()\n",
    "\n",
    "        # Defining the number of layers and the nodes in each layer\n",
    "        self.hidden_dim = hidden_dim\n",
    "        self.layer_dim = layer_dim\n",
    "\n",
    "        # LSTM layers\n",
    "        self.lstm = nn.LSTM(\n",
    "            input_dim, hidden_dim, layer_dim, batch_first=True, dropout=dropout_prob\n",
    "        )\n",
    "\n",
    "        # Fully connected layer\n",
    "        self.fc = nn.Linear(hidden_dim, output_dim)\n",
    "\n",
    "    def forward(self, x):\n",
    "        # Initializing hidden state for first input with zeros\n",
    "        h0 = torch.zeros(self.layer_dim, x.size(0), self.hidden_dim, device=x.device).requires_grad_()\n",
    "\n",
    "        # Initializing cell state for first input with zeros\n",
    "        c0 = torch.zeros(self.layer_dim, x.size(0), self.hidden_dim, device=x.device).requires_grad_()\n",
    "\n",
    "        # We need to detach as we are doing truncated backpropagation through time (BPTT)\n",
    "        # If we don't, we'll backprop all the way to the start even after going through another batch\n",
    "        # Forward propagation by passing in the input, hidden state, and cell state into the model\n",
    "        self.lstm.flatten_parameters() # ------------------------------------------------------------------\n",
    "        out, (hn, cn) = self.lstm(x, (h0.detach(), c0.detach()))\n",
    "\n",
    "        # Reshaping the outputs in the shape of (batch_size, seq_length, hidden_size)\n",
    "        # so that it can fit into the fully connected layer\n",
    "        out = out[:, -1, :]\n",
    "\n",
    "        # Convert the final state to our desired output shape (batch_size, output_dim)\n",
    "        out = self.fc(out)\n",
    "\n",
    "        return out\n",
    "\n",
    "class GRUModel(nn.Module):\n",
    "    def __init__(self, input_dim, hidden_dim, layer_dim, output_dim, dropout_prob):\n",
    "        super(GRUModel, self).__init__()\n",
    "\n",
    "        # Defining the number of layers and the nodes in each layer\n",
    "        self.layer_dim = layer_dim\n",
    "        self.hidden_dim = hidden_dim\n",
    "\n",
    "        # GRU layers\n",
    "        self.gru = nn.GRU(\n",
    "            input_dim, hidden_dim, layer_dim, batch_first=True, dropout=dropout_prob\n",
    "        )\n",
    "\n",
    "        # Fully connected layer\n",
    "        self.fc = nn.Linear(hidden_dim, output_dim)\n",
    "\n",
    "    def forward(self, x):\n",
    "        # Initializing hidden state for first input with zeros\n",
    "        h0 = torch.zeros(self.layer_dim, x.size(0), self.hidden_dim, device=x.device).requires_grad_()\n",
    "\n",
    "        # Forward propagation by passing in the input and hidden state into the model\n",
    "        self.gru.flatten_parameters() # ------------------------------------------------------------------\n",
    "        out, _ = self.gru(x, h0.detach())\n",
    "\n",
    "        # Reshaping the outputs in the shape of (batch_size, seq_length, hidden_size)\n",
    "        # so that it can fit into the fully connected layer\n",
    "        out = out[:, -1, :]\n",
    "\n",
    "        # Convert the final state to our desired output shape (batch_size, output_dim)\n",
    "        out = self.fc(out)\n",
    "\n",
    "        return out"
   ]
  },
  {
   "cell_type": "code",
   "execution_count": 10,
   "id": "067539cf",
   "metadata": {},
   "outputs": [],
   "source": [
    "def get_model(model, model_params):\n",
    "    models = {\n",
    "        \"rnn\": RNNModel,\n",
    "        \"lstm\": LSTMModel,\n",
    "        \"gru\": GRUModel,\n",
    "    }\n",
    "    return models.get(model.lower())(**model_params)"
   ]
  },
  {
   "cell_type": "code",
   "execution_count": 32,
   "id": "c589feea",
   "metadata": {},
   "outputs": [],
   "source": [
    "class Optimization:\n",
    "    def __init__(self, model, loss_fn, optimizer):\n",
    "        self.model = model\n",
    "        self.loss_fn = loss_fn\n",
    "        self.optimizer = optimizer\n",
    "        self.train_losses = []\n",
    "    \n",
    "    def train_step(self, x, y):\n",
    "        # Sets model to train mode\n",
    "        self.model.train()\n",
    "\n",
    "        # Makes predictions\n",
    "        yhat = self.model(x)\n",
    "\n",
    "        # Computes loss\n",
    "        loss = self.loss_fn(y, yhat)\n",
    "\n",
    "        # Computes gradients\n",
    "        loss.backward()\n",
    "\n",
    "        # Updates parameters and zeroes gradients\n",
    "        self.optimizer.step()\n",
    "        self.optimizer.zero_grad()\n",
    "\n",
    "        # Returns the loss\n",
    "        return loss.item()\n",
    "    \n",
    "    def train(self, train_loader, batch_size=64, n_epochs=50, n_features=1):\n",
    "        \n",
    "        # train on GPU\n",
    "        device = torch.device('cuda')\n",
    "        \n",
    "        #best_loss = np.infty\n",
    "        best_train_loss = np.infty\n",
    "        stop_criterion = 1e-5\n",
    "        cnt = 0\n",
    "        patience = 100\n",
    "\n",
    "        for epoch in range(1, n_epochs + 1):\n",
    "            batch_losses = []\n",
    "            for x_batch, y_batch in train_loader:\n",
    "                x_batch = x_batch.view([len(y_batch), -1, n_features]).to(device)\n",
    "                y_batch = y_batch.to(device)\n",
    "                b_loss = self.train_step(x_batch, y_batch)\n",
    "                batch_losses.append(b_loss)\n",
    "            training_loss = np.mean(batch_losses)\n",
    "            self.train_losses.append(training_loss)\n",
    "                    \n",
    "            # early stopping\n",
    "            if ((best_train_loss - training_loss) > stop_criterion):\n",
    "                best_train_loss = training_loss\n",
    "                cnt = 0\n",
    "            else:\n",
    "                cnt += 1\n",
    "            if cnt == patience:\n",
    "                break\n",
    "\n",
    "        return self.model\n",
    "\n",
    "    def evaluate(self, best_model, test_loader, batch_size=1, n_features=1):\n",
    "        # evaluate on GPU\n",
    "        device = torch.device('cuda')\n",
    "        model = deepcopy(best_model)\n",
    "        with torch.no_grad():\n",
    "            predictions = []\n",
    "            values = []\n",
    "            for x_test, y_test in test_loader:\n",
    "                x_test = x_test.view([batch_size, -1, n_features]).to(device)\n",
    "                y_test = y_test.view([batch_size, -1]).to(device)\n",
    "                model.eval()\n",
    "                yhat = model(x_test)\n",
    "                predictions.append(yhat.to(device).detach().cpu().numpy())\n",
    "                values.append(y_test.to(device).detach().cpu().numpy())\n",
    "\n",
    "        return predictions, values\n",
    "    \n",
    "    def plot_losses(self):\n",
    "        plt.plot(self.train_losses, label=\"Training loss\")\n",
    "        #plt.plot(self.val_losses, label=\"Validation loss\")\n",
    "        plt.legend()\n",
    "        plt.title(\"Losses\")\n",
    "        plt.show()\n",
    "        plt.close()"
   ]
  },
  {
   "cell_type": "code",
   "execution_count": 33,
   "id": "b97fd768",
   "metadata": {},
   "outputs": [],
   "source": [
    "def inverse_transform(scaler, df, columns):\n",
    "    for col in columns:\n",
    "        df[col] = scaler.inverse_transform(df[col])\n",
    "    return df\n",
    "\n",
    "def format_predictions(predictions, values, scaler):\n",
    "    vals = np.concatenate(values, axis=0).ravel()\n",
    "    preds = np.concatenate(predictions, axis=0).ravel()\n",
    "    df_result = pd.DataFrame(data={\"value\": vals, \"prediction\": preds})\n",
    "    df_result = df_result.sort_index()\n",
    "    df_result = inverse_transform(scaler, df_result, [[\"value\", \"prediction\"]])\n",
    "    return df_result\n",
    "\n",
    "def calculate_metrics(df):\n",
    "    return {'rmse' : mean_squared_error(df.value, df.prediction)**0.5,\n",
    "            'mae' : mean_absolute_error(df.value, df.prediction),\n",
    "            'mape': mean_absolute_percentage_error(df.value, df.prediction),\n",
    "            'r2' : r2_score(df.value, df.prediction)}\n",
    "\n",
    "def time_format(seconds: int):\n",
    "    if seconds is not None:\n",
    "        seconds = int(seconds)\n",
    "        d = seconds // (3600 * 24)\n",
    "        h = seconds // 3600 % 24\n",
    "        m = seconds % 3600 // 60\n",
    "        s = seconds % 3600 % 60\n",
    "        if d > 0:\n",
    "            return '{:02d}D {:02d}H {:02d}m {:02d}s'.format(d, h, m, s)\n",
    "        elif h > 0:\n",
    "            return '{:02d}H {:02d}m {:02d}s'.format(h, m, s)\n",
    "        elif m > 0:\n",
    "            return '{:02d}m {:02d}s'.format(m, s)\n",
    "        elif s > 0:\n",
    "            return '{:02d}s'.format(s)\n",
    "    return '-'"
   ]
  },
  {
   "cell_type": "markdown",
   "id": "64ca01a0",
   "metadata": {},
   "source": [
    "Training loop:"
   ]
  },
  {
   "cell_type": "code",
   "execution_count": 43,
   "id": "bcd0440e",
   "metadata": {},
   "outputs": [],
   "source": [
    "def train_loop(data_name, model_name, model_params,path,learning_rate,weight_decay,lags=1,batch_size = 64,n_epochs = 500):\n",
    "    \n",
    "    # train on GPU\n",
    "    device = torch.device('cuda')\n",
    "\n",
    "    # load data\n",
    "    with np.load(path+'Data/Frequency of grid/'+data_name+'.npz') as data:\n",
    "        # extract data and the given number of lagged features\n",
    "        X_train = np.concatenate((data['X_train'][:,:lags],data['X_val'][:,:lags]),axis=0)\n",
    "        X_test = data['X_test'][:,:lags]\n",
    "        y_train = np.concatenate((data['y_train'][:,:lags],data['y_val'][:,:lags]),axis=0)\n",
    "        y_test = data['y_test']\n",
    "        \n",
    "    # scale the data to 0-1\n",
    "    scaler = MinMaxScaler()\n",
    "    \n",
    "    X_train_arr = scaler.fit_transform(X_train)\n",
    "    X_test_arr = scaler.transform(X_test)\n",
    "\n",
    "    y_train_arr = scaler.fit_transform(y_train)\n",
    "    y_test_arr = scaler.transform(y_test)\n",
    "    \n",
    "    # convert data to tensors\n",
    "    train_features = torch.Tensor(X_train_arr)\n",
    "    train_targets = torch.Tensor(y_train_arr)\n",
    "    test_features = torch.Tensor(X_test_arr)\n",
    "    test_targets = torch.Tensor(y_test_arr)\n",
    "\n",
    "    # build tensor dataset\n",
    "    train = TensorDataset(train_features, train_targets)\n",
    "    test = TensorDataset(test_features, test_targets)\n",
    "\n",
    "    # get batched data\n",
    "    train_loader = DataLoader(train, batch_size=batch_size, shuffle=False, drop_last=False) \n",
    "    test_loader_one = DataLoader(test, batch_size=1, shuffle=False, drop_last=False)\n",
    "            \n",
    "    # initialise model on GPU\n",
    "    model = get_model(model_name, model_params).to(device)\n",
    "\n",
    "    # create loss function and optimizer\n",
    "    loss_fn = nn.MSELoss()\n",
    "    optimizer = optim.Adam(model.parameters(), lr=learning_rate, weight_decay=weight_decay)\n",
    "    opt = Optimization(model=model, loss_fn=loss_fn, optimizer=optimizer)\n",
    "            \n",
    "    # train the model\n",
    "    model_out = opt.train(train_loader, batch_size=batch_size, n_epochs=n_epochs, n_features=model_params['input_dim'])\n",
    "    opt.plot_losses()\n",
    "\n",
    "    # evaluate on test set\n",
    "    predictions, values = opt.evaluate(model_out, test_loader_one, batch_size=1, n_features=model_params['input_dim'])\n",
    "    df_result = format_predictions(predictions, values, scaler)\n",
    "    result_metrics = calculate_metrics(df_result)\n",
    "    print(result_metrics)\n",
    "    plt.plot(df_result.value)\n",
    "    plt.plot(df_result.prediction)\n",
    "    plt.show()\n",
    "\n",
    "    # append metrics on test set\n",
    "    df_metrics = pd.DataFrame(np.expand_dims((result_metrics['rmse'],result_metrics['mae'],result_metrics['mape'],result_metrics['r2']),axis=0),columns=['mse','mae','mape','r2'])\n",
    "\n",
    "    return df_metrics, df_result"
   ]
  },
  {
   "cell_type": "markdown",
   "id": "0c69024d",
   "metadata": {},
   "source": [
    "Training:"
   ]
  },
  {
   "cell_type": "code",
   "execution_count": 44,
   "id": "891bebeb",
   "metadata": {},
   "outputs": [
    {
     "data": {
      "image/png": "[encoded data removed]",
      "text/plain": [
       "<Figure size 432x288 with 1 Axes>"
      ]
     },
     "metadata": {
      "needs_background": "light"
     },
     "output_type": "display_data"
    },
    {
     "name": "stdout",
     "output_type": "stream",
     "text": [
      "{'rmse': 0.24652459259318688, 'mae': 0.17576583, 'mape': 0.0007311395, 'r2': 0.7163559201772989}\n"
     ]
    },
    {
     "data": {
      "image/png": "[encoded data removed]",
      "text/plain": [
       "<Figure size 432x288 with 1 Axes>"
      ]
     },
     "metadata": {
      "needs_background": "light"
     },
     "output_type": "display_data"
    }
   ],
   "source": [
    "df_metrics, df_result = train_loop(data_name, model_name, model_params,path,learning_rate,weight_decay,lags=lags,batch_size = batch_size,n_epochs = n_epochs)"
   ]
  },
  {
   "cell_type": "code",
   "execution_count": 45,
   "id": "49f57940",
   "metadata": {},
   "outputs": [
    {
     "data": {
      "image/png": "[encoded data removed]",
      "text/plain": [
       "<Figure size 432x288 with 1 Axes>"
      ]
     },
     "metadata": {
      "needs_background": "light"
     },
     "output_type": "display_data"
    }
   ],
   "source": [
    "    with np.load(path+'Data/Frequency of grid/'+data_name+'.npz') as data:\n",
    "        X_train = data['X_train'][:,:lags]\n",
    "        X_val = data['X_val'][:,:lags]\n",
    "        X_test = data['X_test'][:,:lags]\n",
    "        y_train = data['y_train']\n",
    "        y_val = data['y_val']\n",
    "        y_test = data['y_test']\n",
    "        plt.plot(X_test)\n",
    "        plt.plot(y_test)\n",
    "        plt.plot(df_result.prediction)\n",
    "        plt.show()"
   ]
  },
  {
   "cell_type": "code",
   "execution_count": null,
   "id": "84bb4885",
   "metadata": {},
   "outputs": [],
   "source": []
  }
 ],
 "metadata": {
  "kernelspec": {
   "display_name": "Python 3 (ipykernel)",
   "language": "python",
   "name": "python3"
  },
  "language_info": {
   "codemirror_mode": {
    "name": "ipython",
    "version": 3
   },
   "file_extension": ".py",
   "mimetype": "text/x-python",
   "name": "python",
   "nbconvert_exporter": "python",
   "pygments_lexer": "ipython3",
   "version": "3.7.12"
  }
 },
 "nbformat": 4,
 "nbformat_minor": 5
}
