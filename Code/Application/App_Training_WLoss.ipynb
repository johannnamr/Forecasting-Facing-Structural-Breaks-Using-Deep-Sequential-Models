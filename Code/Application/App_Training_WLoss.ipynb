{
 "cells": [
  {
   "cell_type": "markdown",
   "id": "a0954143",
   "metadata": {},
   "source": [
    "# Application - Weighted Loss"
   ]
  },
  {
   "cell_type": "code",
   "execution_count": 1,
   "id": "44a35943",
   "metadata": {},
   "outputs": [],
   "source": [
    "import numpy as np\n",
    "import matplotlib.pyplot as plt\n",
    "import pandas as pd\n",
    "import itertools\n",
    "import time\n",
    "from sklearn.model_selection import train_test_split\n",
    "import time"
   ]
  },
  {
   "cell_type": "code",
   "execution_count": 2,
   "id": "17b50efe",
   "metadata": {},
   "outputs": [],
   "source": [
    "from copy import deepcopy\n",
    "from sklearn.preprocessing import MinMaxScaler\n",
    "from sklearn.metrics import mean_absolute_error, mean_squared_error, r2_score, mean_absolute_percentage_error\n",
    "import torch\n",
    "import torch.nn as nn\n",
    "from torch.utils.data import TensorDataset, DataLoader\n",
    "import torch.optim as optim\n",
    "from datetime import datetime"
   ]
  },
  {
   "cell_type": "markdown",
   "id": "c14f49c2",
   "metadata": {},
   "source": [
    "Set parameters:"
   ]
  },
  {
   "cell_type": "code",
   "execution_count": 3,
   "id": "eb5594b6",
   "metadata": {},
   "outputs": [],
   "source": [
    "path = 'C:/Users/Meier/Institut für Statistik Dropbox/Johanna Meier/Structural Breaks + DL/Application/' "
   ]
  },
  {
   "cell_type": "code",
   "execution_count": 4,
   "id": "2634410d",
   "metadata": {},
   "outputs": [],
   "source": [
    "data_name = 'voltage_2022-09-18'\n",
    "#data_name = 'voltage_2022-10-01'\n",
    "#data_name = 'voltage_2022-10-08'\n",
    "#data_name = 'voltage_2023-01-08'"
   ]
  },
  {
   "cell_type": "code",
   "execution_count": 5,
   "id": "fc7fad45",
   "metadata": {},
   "outputs": [],
   "source": [
    "model_name = 'RNN' # 'RNN', 'LSTM', 'GRU'"
   ]
  },
  {
   "cell_type": "code",
   "execution_count": 6,
   "id": "6d3f9f34",
   "metadata": {},
   "outputs": [],
   "source": [
    "test_size = 0.1           # proportion of test set\n",
    "lags = 1                  # number of lags as features"
   ]
  },
  {
   "cell_type": "code",
   "execution_count": 18,
   "id": "101e9c7a",
   "metadata": {},
   "outputs": [],
   "source": [
    "weight_type = 'exponential' # 'exponential', 'rayleigh', 'bartlett', 'parzen' , 'tukey-hanning'\n",
    "if weight_type == 'bartlett' or weight_type == 'parzen' or weight_type == 'tukey-hanning':\n",
    "    fac = np.array([1, 0.95, 0.9]) # {1, 0.95, 0.9}\n",
    "    alphas = (sim_length*(1-test_size))**fac   # kernels: {T, T^0.95, T^0.9}\n",
    "else:\n",
    "    alphas = np.array([0.005, 0.01, 0.02]) # exp: {0.005, 0.01, 0.02}, ray: {2*10**(-5), 5*10**(-5), 1*10**(-4)}"
   ]
  },
  {
   "cell_type": "code",
   "execution_count": 8,
   "id": "590b3c4c",
   "metadata": {},
   "outputs": [],
   "source": [
    "batch_size = 128\n",
    "n_epochs = 500"
   ]
  },
  {
   "cell_type": "code",
   "execution_count": 9,
   "id": "a38fc4dc",
   "metadata": {},
   "outputs": [],
   "source": [
    "# set parameters\n",
    "input_dim = lags                  # number of lagged features in X\n",
    "hidden_dim = 10                   # number of hidden nodes per layer\n",
    "layer_dim = 1                     # number of layers\n",
    "output_dim = 1                    # output dimension (1 for univariate output)\n",
    "dropout = 0                       # dropout proportion (only before the last sequential layer)\n",
    "learning_rate = 1e-3              # learning rate for Adam optimizer\n",
    "weight_decay = 1e-6               # weight decay for Adam optimizer\n",
    "\n",
    "# save model parameters in dict\n",
    "model_params = {'input_dim': input_dim, 'hidden_dim' : hidden_dim,'layer_dim' : layer_dim, 'output_dim' : output_dim, 'dropout_prob' : dropout}        "
   ]
  },
  {
   "cell_type": "markdown",
   "id": "9d3e0bd0",
   "metadata": {},
   "source": [
    "Models:"
   ]
  },
  {
   "cell_type": "code",
   "execution_count": 10,
   "id": "25bd795a",
   "metadata": {},
   "outputs": [],
   "source": [
    "class RNNModel(nn.Module):\n",
    "    def __init__(self, input_dim, hidden_dim, layer_dim, output_dim, dropout_prob):\n",
    "        super(RNNModel, self).__init__()\n",
    "\n",
    "        # Defining the number of layers and the nodes in each layer\n",
    "        self.hidden_dim = hidden_dim\n",
    "        self.layer_dim = layer_dim\n",
    "\n",
    "        # RNN layers\n",
    "        self.rnn = nn.RNN(\n",
    "            input_dim, hidden_dim, layer_dim, batch_first=True, dropout=dropout_prob\n",
    "        )\n",
    "        # Fully connected layer\n",
    "        self.fc = nn.Linear(hidden_dim, output_dim)\n",
    "\n",
    "    def forward(self, x):\n",
    "        # Initializing hidden state for first input with zeros\n",
    "        h0 = torch.zeros(self.layer_dim, x.size(0), self.hidden_dim, device=x.device).requires_grad_()\n",
    "\n",
    "        # Forward propagation by passing in the input and hidden state into the model\n",
    "        self.rnn.flatten_parameters() # ------------------------------------------------------------------\n",
    "        out, h0 = self.rnn(x, h0.detach())\n",
    "\n",
    "        # Reshaping the outputs in the shape of (batch_size, seq_length, hidden_size)\n",
    "        # so that it can fit into the fully connected layer\n",
    "        out = out[:, -1, :]\n",
    "\n",
    "        # Convert the final state to our desired output shape (batch_size, output_dim)\n",
    "        out = self.fc(out)\n",
    "        return out\n",
    "    \n",
    "class LSTMModel(nn.Module):\n",
    "    def __init__(self, input_dim, hidden_dim, layer_dim, output_dim, dropout_prob):\n",
    "        super(LSTMModel, self).__init__()\n",
    "\n",
    "        # Defining the number of layers and the nodes in each layer\n",
    "        self.hidden_dim = hidden_dim\n",
    "        self.layer_dim = layer_dim\n",
    "\n",
    "        # LSTM layers\n",
    "        self.lstm = nn.LSTM(\n",
    "            input_dim, hidden_dim, layer_dim, batch_first=True, dropout=dropout_prob\n",
    "        )\n",
    "\n",
    "        # Fully connected layer\n",
    "        self.fc = nn.Linear(hidden_dim, output_dim)\n",
    "\n",
    "    def forward(self, x):\n",
    "        # Initializing hidden state for first input with zeros\n",
    "        h0 = torch.zeros(self.layer_dim, x.size(0), self.hidden_dim, device=x.device).requires_grad_()\n",
    "\n",
    "        # Initializing cell state for first input with zeros\n",
    "        c0 = torch.zeros(self.layer_dim, x.size(0), self.hidden_dim, device=x.device).requires_grad_()\n",
    "\n",
    "        # We need to detach as we are doing truncated backpropagation through time (BPTT)\n",
    "        # If we don't, we'll backprop all the way to the start even after going through another batch\n",
    "        # Forward propagation by passing in the input, hidden state, and cell state into the model\n",
    "        self.lstm.flatten_parameters() # ------------------------------------------------------------------\n",
    "        out, (hn, cn) = self.lstm(x, (h0.detach(), c0.detach()))\n",
    "\n",
    "        # Reshaping the outputs in the shape of (batch_size, seq_length, hidden_size)\n",
    "        # so that it can fit into the fully connected layer\n",
    "        out = out[:, -1, :]\n",
    "\n",
    "        # Convert the final state to our desired output shape (batch_size, output_dim)\n",
    "        out = self.fc(out)\n",
    "\n",
    "        return out\n",
    "\n",
    "class GRUModel(nn.Module):\n",
    "    def __init__(self, input_dim, hidden_dim, layer_dim, output_dim, dropout_prob):\n",
    "        super(GRUModel, self).__init__()\n",
    "\n",
    "        # Defining the number of layers and the nodes in each layer\n",
    "        self.layer_dim = layer_dim\n",
    "        self.hidden_dim = hidden_dim\n",
    "\n",
    "        # GRU layers\n",
    "        self.gru = nn.GRU(\n",
    "            input_dim, hidden_dim, layer_dim, batch_first=True, dropout=dropout_prob\n",
    "        )\n",
    "\n",
    "        # Fully connected layer\n",
    "        self.fc = nn.Linear(hidden_dim, output_dim)\n",
    "\n",
    "    def forward(self, x):\n",
    "        # Initializing hidden state for first input with zeros\n",
    "        h0 = torch.zeros(self.layer_dim, x.size(0), self.hidden_dim, device=x.device).requires_grad_()\n",
    "\n",
    "        # Forward propagation by passing in the input and hidden state into the model\n",
    "        self.gru.flatten_parameters() # ------------------------------------------------------------------\n",
    "        out, _ = self.gru(x, h0.detach())\n",
    "\n",
    "        # Reshaping the outputs in the shape of (batch_size, seq_length, hidden_size)\n",
    "        # so that it can fit into the fully connected layer\n",
    "        out = out[:, -1, :]\n",
    "\n",
    "        # Convert the final state to our desired output shape (batch_size, output_dim)\n",
    "        out = self.fc(out)\n",
    "\n",
    "        return out"
   ]
  },
  {
   "cell_type": "code",
   "execution_count": 11,
   "id": "c3dcf177",
   "metadata": {},
   "outputs": [],
   "source": [
    "def get_model(model, model_params):\n",
    "    models = {\n",
    "        \"rnn\": RNNModel,\n",
    "        \"lstm\": LSTMModel,\n",
    "        \"gru\": GRUModel,\n",
    "    }\n",
    "    return models.get(model.lower())(**model_params)"
   ]
  },
  {
   "cell_type": "code",
   "execution_count": 27,
   "id": "6460291b",
   "metadata": {},
   "outputs": [],
   "source": [
    "class Optimization:\n",
    "    def __init__(self, model, loss_fn, optimizer):\n",
    "        self.model = model\n",
    "        self.loss_fn = loss_fn\n",
    "        self.optimizer = optimizer\n",
    "        self.train_losses = []\n",
    "        self.val_losses = []\n",
    "    \n",
    "    def train_step(self, x, y, weight):\n",
    "        # Sets model to train mode\n",
    "        self.model.train()\n",
    "\n",
    "        # Makes predictions\n",
    "        yhat = self.model(x)\n",
    "\n",
    "        # Computes loss\n",
    "        loss = self.loss_fn(y, yhat, weight)\n",
    "\n",
    "        # Computes gradients\n",
    "        loss.backward()\n",
    "\n",
    "        # Updates parameters and zeroes gradients\n",
    "        self.optimizer.step()\n",
    "        self.optimizer.zero_grad()\n",
    "\n",
    "        # Returns the loss\n",
    "        return loss.item()\n",
    "    \n",
    "    def train(self, train_loader, val_loader, weight_type, alpha, batch_size=64, n_epochs=50, n_features=1):\n",
    "        \n",
    "        # train on GPU\n",
    "        device = torch.device('cuda')\n",
    "        \n",
    "        best_loss = np.infty\n",
    "        best_train_loss = np.infty\n",
    "        stop_criterion = 1e-5\n",
    "        cnt = 0\n",
    "        patience = 100\n",
    "\n",
    "        for epoch in range(1, n_epochs + 1):\n",
    "            batch_losses = []\n",
    "            obs_total = len(train_loader.dataset)  # number of samples\n",
    "            step = 1\n",
    "            for x_batch, y_batch in train_loader:\n",
    "                x_batch = x_batch.view([len(y_batch), -1, n_features]).to(device)\n",
    "                y_batch = y_batch.view([len(y_batch), -1]).to(device)\n",
    "                t = np.arange(step,step+len(y_batch)) # array of periods of this batch\n",
    "                if weight_type == 'exponential':\n",
    "                    weight = np.exp(-alpha*(obs_total-t))  # exponential weight\n",
    "                if weight_type == 'rayleigh':\n",
    "                    weight = np.exp(-(1/2)*alpha*(obs_total-t)**2)  # Rayleigh weight\n",
    "                if weight_type == 'bartlett':  # Bartlett weight\n",
    "                    weight = np.zeros([t.shape[0]])\n",
    "                    for i in range(t.shape[0]):\n",
    "                        if ((obs_total-t[i])/alpha)<=1:\n",
    "                            weight[i] = 1-(obs_total-t[i])/alpha\n",
    "                        else:\n",
    "                            weight[i] = 0\n",
    "                if weight_type == 'parzen':  # Parzen weight\n",
    "                    weight = np.zeros([t.shape[0]])\n",
    "                    for i in range(t.shape[0]):\n",
    "                        if ((obs_total-t[i])/alpha)>=0 and ((obs_total-t[i])/alpha)<=0.5:\n",
    "                            weight[i] = (1-6*((obs_total-t[i])/alpha)**2+6*((obs_total-t[i])/alpha)**3) \n",
    "                        elif ((obs_total-t[i])/alpha)>0.5 and ((obs_total-t[i])/alpha)<=1:\n",
    "                            weight[i] = 2*(1-((obs_total-t[i])/alpha))**3 \n",
    "                        else:\n",
    "                            weight[i] = 0\n",
    "                if weight_type == 'tukey-hanning':  # Tukey-Hanning weight\n",
    "                    weight = np.zeros([t.shape[0]])\n",
    "                    for i in range(t.shape[0]):\n",
    "                        if ((obs_total-t[i])/alpha)<=1:\n",
    "                            weight[i] = (1+np.cos(np.pi*((obs_total-t[i])/alpha)))/2\n",
    "                        else:\n",
    "                            weight[i] = 0\n",
    "                b_loss = self.train_step(x_batch, y_batch, torch.tensor(weight).to(device))\n",
    "                batch_losses.append(b_loss)\n",
    "                step += len(y_batch) ###########################################\n",
    "            training_loss = np.sum(batch_losses)\n",
    "            self.train_losses.append(training_loss)\n",
    "\n",
    "            with torch.no_grad():\n",
    "                batch_val_losses = []\n",
    "                for x_val, y_val in val_loader:\n",
    "                    x_val = x_val.view([len(y_val), -1, n_features]).to(device)\n",
    "                    y_val = y_val.to(device)\n",
    "                    self.model.eval()\n",
    "                    yhat = self.model(x_val)\n",
    "                    val_loss = self.loss_fn(y_val, yhat, torch.tensor(1/len(val_loader.dataset)).to(device)).item() # loss using equal weights\n",
    "                    batch_val_losses.append(val_loss)\n",
    "                val_loss = np.sum(batch_val_losses)  # MSE\n",
    "                self.val_losses.append(val_loss)\n",
    "\n",
    "                # save model with smallest validation loss\n",
    "                if (val_loss < best_loss):\n",
    "                    best_loss = val_loss\n",
    "                    best_epoch = epoch\n",
    "                    best_model = deepcopy(self.model)\n",
    "                    \n",
    "                # early stopping\n",
    "                if ((best_train_loss - training_loss) > stop_criterion):\n",
    "                    best_train_loss = training_loss\n",
    "                    cnt = 0\n",
    "                else:\n",
    "                    cnt += 1\n",
    "                if cnt == patience:\n",
    "                    break\n",
    "\n",
    "        return best_model, best_loss\n",
    "\n",
    "    def evaluate(self, best_model, test_loader, batch_size=1, n_features=1):\n",
    "        # evaluate on GPU\n",
    "        device = torch.device('cuda')\n",
    "        model = deepcopy(best_model)\n",
    "        with torch.no_grad():\n",
    "            predictions = []\n",
    "            values = []\n",
    "            for x_test, y_test in test_loader:\n",
    "                x_test = x_test.view([batch_size, -1, n_features]).to(device)\n",
    "                y_test = y_test.view([batch_size, -1]).to(device)\n",
    "                model.eval()\n",
    "                yhat = model(x_test)\n",
    "                predictions.append(yhat.to(device).detach().cpu().numpy())\n",
    "                values.append(y_test.to(device).detach().cpu().numpy())\n",
    "\n",
    "        return predictions, values\n",
    "    \n",
    "    def plot_losses(self):\n",
    "        plt.plot(self.train_losses, label=\"Training loss\")\n",
    "        plt.plot(self.val_losses, label=\"Validation loss\")\n",
    "        plt.legend()\n",
    "        plt.title(\"Losses\")\n",
    "        plt.show()\n",
    "        plt.close()"
   ]
  },
  {
   "cell_type": "code",
   "execution_count": 28,
   "id": "57b9fe8b",
   "metadata": {},
   "outputs": [],
   "source": [
    "def inverse_transform(scaler, df, columns):\n",
    "    for col in columns:\n",
    "        df[col] = scaler.inverse_transform(df[col])\n",
    "    return df\n",
    "\n",
    "def format_predictions(predictions, values, scaler):\n",
    "    vals = np.concatenate(values, axis=0).ravel()\n",
    "    preds = np.concatenate(predictions, axis=0).ravel()\n",
    "    df_result = pd.DataFrame(data={\"value\": vals, \"prediction\": preds})\n",
    "    df_result = df_result.sort_index()\n",
    "    df_result = inverse_transform(scaler, df_result, [[\"value\", \"prediction\"]])\n",
    "    return df_result\n",
    "\n",
    "def calculate_metrics(df):\n",
    "    return {'rmse' : mean_squared_error(df.value, df.prediction)**0.5,\n",
    "            'mae' : mean_absolute_error(df.value, df.prediction),\n",
    "            'mape': mean_absolute_percentage_error(df.value, df.prediction),\n",
    "            'r2' : r2_score(df.value, df.prediction)}\n",
    "\n",
    "def time_format(seconds: int):\n",
    "    if seconds is not None:\n",
    "        seconds = int(seconds)\n",
    "        d = seconds // (3600 * 24)\n",
    "        h = seconds // 3600 % 24\n",
    "        m = seconds % 3600 // 60\n",
    "        s = seconds % 3600 % 60\n",
    "        if d > 0:\n",
    "            return '{:02d}D {:02d}H {:02d}m {:02d}s'.format(d, h, m, s)\n",
    "        elif h > 0:\n",
    "            return '{:02d}H {:02d}m {:02d}s'.format(h, m, s)\n",
    "        elif m > 0:\n",
    "            return '{:02d}m {:02d}s'.format(m, s)\n",
    "        elif s > 0:\n",
    "            return '{:02d}s'.format(s)\n",
    "    return '-'"
   ]
  },
  {
   "cell_type": "code",
   "execution_count": 29,
   "id": "beda4ec5",
   "metadata": {},
   "outputs": [],
   "source": [
    "class WeightedLoss(nn.Module):\n",
    "    def __init__(self):\n",
    "        super(WeightedLoss, self).__init__()\n",
    " \n",
    "    def forward(self, inputs, targets, weight=1):  \n",
    "        \n",
    "        # flatten input and target tensors\n",
    "        inputs = inputs.view(-1)\n",
    "        targets = targets.view(-1)\n",
    "        \n",
    "        # get weighted squared differences\n",
    "        weighted_sqrd_diff = weight*((inputs - targets) ** 2)\n",
    "        \n",
    "        return weighted_sqrd_diff.sum()"
   ]
  },
  {
   "cell_type": "markdown",
   "id": "60ab660b",
   "metadata": {},
   "source": [
    "Training:"
   ]
  },
  {
   "cell_type": "code",
   "execution_count": 42,
   "id": "44ce98d0",
   "metadata": {},
   "outputs": [],
   "source": [
    "def train_loop(data_name, model_name, model_params,path,learning_rate,weight_decay,alphas,lags=1,weight_type='exponential', batch_size = 64,n_epochs = 500):\n",
    "    \n",
    "    # train on GPU\n",
    "    device = torch.device('cuda')\n",
    "\n",
    "    # load data\n",
    "    with np.load(path+'Data/Grid/'+data_name+'.npz') as data:\n",
    "        # extract data and the given number of lagged features\n",
    "        X_train = data['X_train'][:,:lags]\n",
    "        X_val = data['X_val'][:,:lags]\n",
    "        X_test = data['X_test'][:,:lags]\n",
    "        y_train = data['y_train']\n",
    "        y_val = data['y_val']\n",
    "        y_test = data['y_test']\n",
    "    \n",
    "    # scale the data to 0-1\n",
    "    scaler = MinMaxScaler()\n",
    "\n",
    "    X_train_arr = scaler.fit_transform(X_train)\n",
    "    X_val_arr = scaler.transform(X_val)\n",
    "    X_test_arr = scaler.transform(X_test)\n",
    "\n",
    "    y_train_arr = scaler.fit_transform(y_train)\n",
    "    y_val_arr = scaler.transform(y_val)\n",
    "    y_test_arr = scaler.transform(y_test)\n",
    "    \n",
    "    # convert data to tensors\n",
    "    train_features = torch.Tensor(X_train_arr)\n",
    "    train_targets = torch.Tensor(y_train_arr)\n",
    "    val_features = torch.Tensor(X_val_arr)\n",
    "    val_targets = torch.Tensor(y_val_arr)\n",
    "    test_features = torch.Tensor(X_test_arr)\n",
    "    test_targets = torch.Tensor(y_test_arr)\n",
    "\n",
    "    # build tensor dataset\n",
    "    train = TensorDataset(train_features, train_targets)\n",
    "    val = TensorDataset(val_features, val_targets)\n",
    "    test = TensorDataset(test_features, test_targets)\n",
    "\n",
    "    # get batched data\n",
    "    train_loader = DataLoader(train, batch_size=batch_size, shuffle=False, drop_last=False) \n",
    "    val_loader = DataLoader(val, batch_size=batch_size, shuffle=False, drop_last=False)\n",
    "    test_loader = DataLoader(test, batch_size=1, shuffle=False, drop_last=False)\n",
    "\n",
    "    best_alpha = np.infty\n",
    "    best_loss = np.infty\n",
    "\n",
    "    # loop over all alphas\n",
    "    for i in range(len(alphas)):\n",
    "\n",
    "        # initialise model\n",
    "        model = get_model(model_name, model_params).to(device)\n",
    "\n",
    "        # create loss function and optimizer\n",
    "        loss_fn = WeightedLoss()\n",
    "        optimizer = optim.Adam(model.parameters(), lr=learning_rate, weight_decay=weight_decay)\n",
    "        opt = Optimization(model=model, loss_fn=loss_fn, optimizer=optimizer)\n",
    "            \n",
    "        # train the model\n",
    "        best_model_out, val_loss = opt.train(train_loader, val_loader, weight_type=weight_type, alpha=alphas[i], batch_size=batch_size, n_epochs=n_epochs, n_features=model_params['input_dim'])\n",
    "        if (val_loss < best_loss):\n",
    "            best_loss = val_loss\n",
    "            best_model = deepcopy(best_model_out)\n",
    "            best_alpha = i\n",
    "        opt.plot_losses()\n",
    "\n",
    "    # evaluate on test set\n",
    "    predictions, values = opt.evaluate(best_model, test_loader, batch_size=1, n_features=model_params['input_dim'])\n",
    "    df_result = format_predictions(predictions, values, scaler)\n",
    "    result_metrics = calculate_metrics(df_result)\n",
    "    print(result_metrics)\n",
    "    plt.plot(df_result.value)\n",
    "    plt.plot(df_result.prediction)\n",
    "    plt.show()\n",
    "\n",
    "    # append metrics on test set\n",
    "    df_metrics = pd.DataFrame(np.expand_dims((result_metrics['rmse'],result_metrics['mae'],result_metrics['mape'],result_metrics['r2'],),axis=0),columns=['rmse','mae','mape','r2'])\n",
    "\n",
    "    return df_metrics, best_alpha, df_result"
   ]
  },
  {
   "cell_type": "code",
   "execution_count": 43,
   "id": "d2196ee1",
   "metadata": {},
   "outputs": [
    {
     "data": {
      "image/png": "[encoded data removed]",
      "text/plain": [
       "<Figure size 432x288 with 1 Axes>"
      ]
     },
     "metadata": {
      "needs_background": "light"
     },
     "output_type": "display_data"
    },
    {
     "data": {
      "image/png": "[encoded data removed]",
      "text/plain": [
       "<Figure size 432x288 with 1 Axes>"
      ]
     },
     "metadata": {
      "needs_background": "light"
     },
     "output_type": "display_data"
    },
    {
     "data": {
      "image/png": "[encoded data removed]",
      "text/plain": [
       "<Figure size 432x288 with 1 Axes>"
      ]
     },
     "metadata": {
      "needs_background": "light"
     },
     "output_type": "display_data"
    },
    {
     "name": "stdout",
     "output_type": "stream",
     "text": [
      "{'rmse': 0.24556674993356406, 'mae': 0.17545001, 'mape': 0.00072981644, 'r2': 0.7185557651867147}\n"
     ]
    },
    {
     "data": {
      "image/png": "[encoded data removed]",
      "text/plain": [
       "<Figure size 432x288 with 1 Axes>"
      ]
     },
     "metadata": {
      "needs_background": "light"
     },
     "output_type": "display_data"
    }
   ],
   "source": [
    "df_metrics, best_alpha, df_result = train_loop(data_name, model_name, model_params,path,learning_rate,weight_decay,alphas,lags=lags,weight_type=weight_type, batch_size = batch_size,n_epochs = 500)"
   ]
  },
  {
   "cell_type": "code",
   "execution_count": 44,
   "id": "ff1ad92a",
   "metadata": {},
   "outputs": [
    {
     "data": {
      "image/png": "[encoded data removed]",
      "text/plain": [
       "<Figure size 432x288 with 1 Axes>"
      ]
     },
     "metadata": {
      "needs_background": "light"
     },
     "output_type": "display_data"
    }
   ],
   "source": [
    "    with np.load(path+'Data/Frequency of grid/'+data_name+'.npz') as data:\n",
    "        X_train = data['X_train'][:,:lags]\n",
    "        X_val = data['X_val'][:,:lags]\n",
    "        X_test = data['X_test'][:,:lags]\n",
    "        y_train = data['y_train']\n",
    "        y_val = data['y_val']\n",
    "        y_test = data['y_test']\n",
    "        plt.plot(X_test)\n",
    "        plt.plot(y_test)\n",
    "        plt.plot(df_result.prediction)\n",
    "        plt.show()"
   ]
  },
  {
   "cell_type": "code",
   "execution_count": null,
   "id": "10098e86",
   "metadata": {},
   "outputs": [],
   "source": []
  }
 ],
 "metadata": {
  "kernelspec": {
   "display_name": "Python 3 (ipykernel)",
   "language": "python",
   "name": "python3"
  },
  "language_info": {
   "codemirror_mode": {
    "name": "ipython",
    "version": 3
   },
   "file_extension": ".py",
   "mimetype": "text/x-python",
   "name": "python",
   "nbconvert_exporter": "python",
   "pygments_lexer": "ipython3",
   "version": "3.7.12"
  }
 },
 "nbformat": 4,
 "nbformat_minor": 5
}
