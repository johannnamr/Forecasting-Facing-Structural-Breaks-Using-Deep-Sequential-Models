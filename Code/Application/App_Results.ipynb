{
 "cells": [
  {
   "cell_type": "markdown",
   "id": "cc976932",
   "metadata": {},
   "source": [
    "# Application Results"
   ]
  },
  {
   "cell_type": "code",
   "execution_count": 4,
   "id": "89b40de0",
   "metadata": {},
   "outputs": [],
   "source": [
    "import numpy as np\n",
    "import matplotlib.pyplot as plt\n",
    "import pandas as pd\n",
    "import itertools"
   ]
  },
  {
   "cell_type": "markdown",
   "id": "2df2d359",
   "metadata": {},
   "source": [
    "Set path:"
   ]
  },
  {
   "cell_type": "code",
   "execution_count": 132,
   "id": "71067feb",
   "metadata": {},
   "outputs": [],
   "source": [
    "path = 'C:/Users/Meier/Institut für Statistik Dropbox/Johanna Meier/Structural Breaks + DL/Application/'"
   ]
  },
  {
   "cell_type": "markdown",
   "id": "18ea5dba",
   "metadata": {},
   "source": [
    "Set dataset:"
   ]
  },
  {
   "cell_type": "code",
   "execution_count": 39,
   "id": "944047f2",
   "metadata": {},
   "outputs": [],
   "source": [
    "data_names = ['voltage_2022-09-18','voltage_2022-10-01','voltage_2022-10-08','voltage_2023-01-08']"
   ]
  },
  {
   "cell_type": "markdown",
   "id": "39d45692",
   "metadata": {},
   "source": [
    "Set metric:"
   ]
  },
  {
   "cell_type": "code",
   "execution_count": 21,
   "id": "15b8019e",
   "metadata": {},
   "outputs": [],
   "source": [
    "metric = 0 # RMSE: 0, MAE: 1, MAPE: 2, R^2: 3"
   ]
  },
  {
   "cell_type": "markdown",
   "id": "3a6b8521",
   "metadata": {},
   "source": [
    "## Best Performance"
   ]
  },
  {
   "cell_type": "code",
   "execution_count": 63,
   "id": "d675285f",
   "metadata": {},
   "outputs": [],
   "source": [
    "ind = ['EQUAL', 'EXP', 'RAY', 'BAR', 'PAR', 'TUK']\n",
    "col1 = ['18/09/2022','01/10/2022','08/10/2022','08/01/2023']\n",
    "col2 = ['RNN','LSTM','GRU']\n",
    "columns = pd.MultiIndex.from_tuples(list(itertools.product(col1, col2)))\n",
    "df_best = pd.DataFrame(columns = columns, index = ind)\n",
    "df_best.index.names = ['Weights']\n",
    "df_best = df_best.T"
   ]
  },
  {
   "cell_type": "code",
   "execution_count": 64,
   "id": "6d169162",
   "metadata": {},
   "outputs": [
    {
     "data": {
      "text/html": [
       "<div>\n",
       "<style scoped>\n",
       "    .dataframe tbody tr th:only-of-type {\n",
       "        vertical-align: middle;\n",
       "    }\n",
       "\n",
       "    .dataframe tbody tr th {\n",
       "        vertical-align: top;\n",
       "    }\n",
       "\n",
       "    .dataframe thead th {\n",
       "        text-align: right;\n",
       "    }\n",
       "</style>\n",
       "<table border=\"1\" class=\"dataframe\">\n",
       "  <thead>\n",
       "    <tr style=\"text-align: right;\">\n",
       "      <th></th>\n",
       "      <th>Weights</th>\n",
       "      <th>EQUAL</th>\n",
       "      <th>EXP</th>\n",
       "      <th>RAY</th>\n",
       "      <th>BAR</th>\n",
       "      <th>PAR</th>\n",
       "      <th>TUK</th>\n",
       "    </tr>\n",
       "  </thead>\n",
       "  <tbody>\n",
       "    <tr>\n",
       "      <th rowspan=\"3\" valign=\"top\">18/09/2022</th>\n",
       "      <th>RNN</th>\n",
       "      <td>NaN</td>\n",
       "      <td>NaN</td>\n",
       "      <td>NaN</td>\n",
       "      <td>NaN</td>\n",
       "      <td>NaN</td>\n",
       "      <td>NaN</td>\n",
       "    </tr>\n",
       "    <tr>\n",
       "      <th>LSTM</th>\n",
       "      <td>NaN</td>\n",
       "      <td>NaN</td>\n",
       "      <td>NaN</td>\n",
       "      <td>NaN</td>\n",
       "      <td>NaN</td>\n",
       "      <td>NaN</td>\n",
       "    </tr>\n",
       "    <tr>\n",
       "      <th>GRU</th>\n",
       "      <td>NaN</td>\n",
       "      <td>NaN</td>\n",
       "      <td>NaN</td>\n",
       "      <td>NaN</td>\n",
       "      <td>NaN</td>\n",
       "      <td>NaN</td>\n",
       "    </tr>\n",
       "    <tr>\n",
       "      <th rowspan=\"3\" valign=\"top\">01/10/2022</th>\n",
       "      <th>RNN</th>\n",
       "      <td>NaN</td>\n",
       "      <td>NaN</td>\n",
       "      <td>NaN</td>\n",
       "      <td>NaN</td>\n",
       "      <td>NaN</td>\n",
       "      <td>NaN</td>\n",
       "    </tr>\n",
       "    <tr>\n",
       "      <th>LSTM</th>\n",
       "      <td>NaN</td>\n",
       "      <td>NaN</td>\n",
       "      <td>NaN</td>\n",
       "      <td>NaN</td>\n",
       "      <td>NaN</td>\n",
       "      <td>NaN</td>\n",
       "    </tr>\n",
       "    <tr>\n",
       "      <th>GRU</th>\n",
       "      <td>NaN</td>\n",
       "      <td>NaN</td>\n",
       "      <td>NaN</td>\n",
       "      <td>NaN</td>\n",
       "      <td>NaN</td>\n",
       "      <td>NaN</td>\n",
       "    </tr>\n",
       "    <tr>\n",
       "      <th rowspan=\"3\" valign=\"top\">08/10/2022</th>\n",
       "      <th>RNN</th>\n",
       "      <td>NaN</td>\n",
       "      <td>NaN</td>\n",
       "      <td>NaN</td>\n",
       "      <td>NaN</td>\n",
       "      <td>NaN</td>\n",
       "      <td>NaN</td>\n",
       "    </tr>\n",
       "    <tr>\n",
       "      <th>LSTM</th>\n",
       "      <td>NaN</td>\n",
       "      <td>NaN</td>\n",
       "      <td>NaN</td>\n",
       "      <td>NaN</td>\n",
       "      <td>NaN</td>\n",
       "      <td>NaN</td>\n",
       "    </tr>\n",
       "    <tr>\n",
       "      <th>GRU</th>\n",
       "      <td>NaN</td>\n",
       "      <td>NaN</td>\n",
       "      <td>NaN</td>\n",
       "      <td>NaN</td>\n",
       "      <td>NaN</td>\n",
       "      <td>NaN</td>\n",
       "    </tr>\n",
       "    <tr>\n",
       "      <th rowspan=\"3\" valign=\"top\">08/01/2023</th>\n",
       "      <th>RNN</th>\n",
       "      <td>NaN</td>\n",
       "      <td>NaN</td>\n",
       "      <td>NaN</td>\n",
       "      <td>NaN</td>\n",
       "      <td>NaN</td>\n",
       "      <td>NaN</td>\n",
       "    </tr>\n",
       "    <tr>\n",
       "      <th>LSTM</th>\n",
       "      <td>NaN</td>\n",
       "      <td>NaN</td>\n",
       "      <td>NaN</td>\n",
       "      <td>NaN</td>\n",
       "      <td>NaN</td>\n",
       "      <td>NaN</td>\n",
       "    </tr>\n",
       "    <tr>\n",
       "      <th>GRU</th>\n",
       "      <td>NaN</td>\n",
       "      <td>NaN</td>\n",
       "      <td>NaN</td>\n",
       "      <td>NaN</td>\n",
       "      <td>NaN</td>\n",
       "      <td>NaN</td>\n",
       "    </tr>\n",
       "  </tbody>\n",
       "</table>\n",
       "</div>"
      ],
      "text/plain": [
       "Weights         EQUAL  EXP  RAY  BAR  PAR  TUK\n",
       "18/09/2022 RNN    NaN  NaN  NaN  NaN  NaN  NaN\n",
       "           LSTM   NaN  NaN  NaN  NaN  NaN  NaN\n",
       "           GRU    NaN  NaN  NaN  NaN  NaN  NaN\n",
       "01/10/2022 RNN    NaN  NaN  NaN  NaN  NaN  NaN\n",
       "           LSTM   NaN  NaN  NaN  NaN  NaN  NaN\n",
       "           GRU    NaN  NaN  NaN  NaN  NaN  NaN\n",
       "08/10/2022 RNN    NaN  NaN  NaN  NaN  NaN  NaN\n",
       "           LSTM   NaN  NaN  NaN  NaN  NaN  NaN\n",
       "           GRU    NaN  NaN  NaN  NaN  NaN  NaN\n",
       "08/01/2023 RNN    NaN  NaN  NaN  NaN  NaN  NaN\n",
       "           LSTM   NaN  NaN  NaN  NaN  NaN  NaN\n",
       "           GRU    NaN  NaN  NaN  NaN  NaN  NaN"
      ]
     },
     "execution_count": 64,
     "metadata": {},
     "output_type": "execute_result"
    }
   ],
   "source": [
    "df_best"
   ]
  },
  {
   "cell_type": "code",
   "execution_count": 65,
   "id": "73393676",
   "metadata": {},
   "outputs": [],
   "source": [
    "# dates = ['18/09/2022','01/10/2022','08/10/2022','08/01/2023']\n",
    "#str_model = ['RNN', 'LSTM', 'GRU']\n",
    "#weight_type = ['exponential', 'rayleigh', 'bartlett', 'parzen' , 'tukey-hanning']\n",
    "dates = ['18/09/2022']\n",
    "str_model = ['RNN']\n",
    "weight_type = ['exponential']\n",
    "for k in range(len(dates)):\n",
    "    for i in range(len(str_model)):\n",
    "        for j in range(len(weight_type)+1):\n",
    "            if j==0:\n",
    "                with np.load(path+'Results/'+data_names[k]+'_'+str_model[i]+'_results.npz') as data:\n",
    "                    df_best.loc[(col1[k],col2[i]),ind[j]] = np.round(data['best_metrics'][0][metric],4)\n",
    "            else:\n",
    "                with np.load(path+'Results/'+data_names[k]+'_'+str_model[i]+'_'+weight_type[j-1]+'_results.npz') as data:\n",
    "                    df_best.loc[(col1[k],col2[i]),ind[j]] = np.round(data['best_metrics'][0][metric],4)"
   ]
  },
  {
   "cell_type": "code",
   "execution_count": 66,
   "id": "d233622e",
   "metadata": {},
   "outputs": [
    {
     "data": {
      "text/html": [
       "<div>\n",
       "<style scoped>\n",
       "    .dataframe tbody tr th:only-of-type {\n",
       "        vertical-align: middle;\n",
       "    }\n",
       "\n",
       "    .dataframe tbody tr th {\n",
       "        vertical-align: top;\n",
       "    }\n",
       "\n",
       "    .dataframe thead th {\n",
       "        text-align: right;\n",
       "    }\n",
       "</style>\n",
       "<table border=\"1\" class=\"dataframe\">\n",
       "  <thead>\n",
       "    <tr style=\"text-align: right;\">\n",
       "      <th></th>\n",
       "      <th>Weights</th>\n",
       "      <th>EQUAL</th>\n",
       "      <th>EXP</th>\n",
       "      <th>RAY</th>\n",
       "      <th>BAR</th>\n",
       "      <th>PAR</th>\n",
       "      <th>TUK</th>\n",
       "    </tr>\n",
       "  </thead>\n",
       "  <tbody>\n",
       "    <tr>\n",
       "      <th rowspan=\"3\" valign=\"top\">18/09/2022</th>\n",
       "      <th>RNN</th>\n",
       "      <td>0.1763</td>\n",
       "      <td>0.1725</td>\n",
       "      <td>NaN</td>\n",
       "      <td>NaN</td>\n",
       "      <td>NaN</td>\n",
       "      <td>NaN</td>\n",
       "    </tr>\n",
       "    <tr>\n",
       "      <th>LSTM</th>\n",
       "      <td>NaN</td>\n",
       "      <td>NaN</td>\n",
       "      <td>NaN</td>\n",
       "      <td>NaN</td>\n",
       "      <td>NaN</td>\n",
       "      <td>NaN</td>\n",
       "    </tr>\n",
       "    <tr>\n",
       "      <th>GRU</th>\n",
       "      <td>NaN</td>\n",
       "      <td>NaN</td>\n",
       "      <td>NaN</td>\n",
       "      <td>NaN</td>\n",
       "      <td>NaN</td>\n",
       "      <td>NaN</td>\n",
       "    </tr>\n",
       "    <tr>\n",
       "      <th rowspan=\"3\" valign=\"top\">01/10/2022</th>\n",
       "      <th>RNN</th>\n",
       "      <td>NaN</td>\n",
       "      <td>NaN</td>\n",
       "      <td>NaN</td>\n",
       "      <td>NaN</td>\n",
       "      <td>NaN</td>\n",
       "      <td>NaN</td>\n",
       "    </tr>\n",
       "    <tr>\n",
       "      <th>LSTM</th>\n",
       "      <td>NaN</td>\n",
       "      <td>NaN</td>\n",
       "      <td>NaN</td>\n",
       "      <td>NaN</td>\n",
       "      <td>NaN</td>\n",
       "      <td>NaN</td>\n",
       "    </tr>\n",
       "    <tr>\n",
       "      <th>GRU</th>\n",
       "      <td>NaN</td>\n",
       "      <td>NaN</td>\n",
       "      <td>NaN</td>\n",
       "      <td>NaN</td>\n",
       "      <td>NaN</td>\n",
       "      <td>NaN</td>\n",
       "    </tr>\n",
       "    <tr>\n",
       "      <th rowspan=\"3\" valign=\"top\">08/10/2022</th>\n",
       "      <th>RNN</th>\n",
       "      <td>NaN</td>\n",
       "      <td>NaN</td>\n",
       "      <td>NaN</td>\n",
       "      <td>NaN</td>\n",
       "      <td>NaN</td>\n",
       "      <td>NaN</td>\n",
       "    </tr>\n",
       "    <tr>\n",
       "      <th>LSTM</th>\n",
       "      <td>NaN</td>\n",
       "      <td>NaN</td>\n",
       "      <td>NaN</td>\n",
       "      <td>NaN</td>\n",
       "      <td>NaN</td>\n",
       "      <td>NaN</td>\n",
       "    </tr>\n",
       "    <tr>\n",
       "      <th>GRU</th>\n",
       "      <td>NaN</td>\n",
       "      <td>NaN</td>\n",
       "      <td>NaN</td>\n",
       "      <td>NaN</td>\n",
       "      <td>NaN</td>\n",
       "      <td>NaN</td>\n",
       "    </tr>\n",
       "    <tr>\n",
       "      <th rowspan=\"3\" valign=\"top\">08/01/2023</th>\n",
       "      <th>RNN</th>\n",
       "      <td>NaN</td>\n",
       "      <td>NaN</td>\n",
       "      <td>NaN</td>\n",
       "      <td>NaN</td>\n",
       "      <td>NaN</td>\n",
       "      <td>NaN</td>\n",
       "    </tr>\n",
       "    <tr>\n",
       "      <th>LSTM</th>\n",
       "      <td>NaN</td>\n",
       "      <td>NaN</td>\n",
       "      <td>NaN</td>\n",
       "      <td>NaN</td>\n",
       "      <td>NaN</td>\n",
       "      <td>NaN</td>\n",
       "    </tr>\n",
       "    <tr>\n",
       "      <th>GRU</th>\n",
       "      <td>NaN</td>\n",
       "      <td>NaN</td>\n",
       "      <td>NaN</td>\n",
       "      <td>NaN</td>\n",
       "      <td>NaN</td>\n",
       "      <td>NaN</td>\n",
       "    </tr>\n",
       "  </tbody>\n",
       "</table>\n",
       "</div>"
      ],
      "text/plain": [
       "Weights           EQUAL     EXP  RAY  BAR  PAR  TUK\n",
       "18/09/2022 RNN   0.1763  0.1725  NaN  NaN  NaN  NaN\n",
       "           LSTM     NaN     NaN  NaN  NaN  NaN  NaN\n",
       "           GRU      NaN     NaN  NaN  NaN  NaN  NaN\n",
       "01/10/2022 RNN      NaN     NaN  NaN  NaN  NaN  NaN\n",
       "           LSTM     NaN     NaN  NaN  NaN  NaN  NaN\n",
       "           GRU      NaN     NaN  NaN  NaN  NaN  NaN\n",
       "08/10/2022 RNN      NaN     NaN  NaN  NaN  NaN  NaN\n",
       "           LSTM     NaN     NaN  NaN  NaN  NaN  NaN\n",
       "           GRU      NaN     NaN  NaN  NaN  NaN  NaN\n",
       "08/01/2023 RNN      NaN     NaN  NaN  NaN  NaN  NaN\n",
       "           LSTM     NaN     NaN  NaN  NaN  NaN  NaN\n",
       "           GRU      NaN     NaN  NaN  NaN  NaN  NaN"
      ]
     },
     "execution_count": 66,
     "metadata": {},
     "output_type": "execute_result"
    }
   ],
   "source": [
    "df_best"
   ]
  },
  {
   "cell_type": "code",
   "execution_count": 67,
   "id": "82b373ab",
   "metadata": {},
   "outputs": [
    {
     "name": "stdout",
     "output_type": "stream",
     "text": [
      "\\begin{tabular}{llllllll}\n",
      "\\toprule\n",
      "           & Weights &   EQUAL &     EXP &  RAY &  BAR &  PAR &  TUK \\\\\n",
      "\\midrule\n",
      "18/09/2022 & RNN &  0.1763 &  0.1725 &  NaN &  NaN &  NaN &  NaN \\\\\n",
      "           & LSTM &     NaN &     NaN &  NaN &  NaN &  NaN &  NaN \\\\\n",
      "           & GRU &     NaN &     NaN &  NaN &  NaN &  NaN &  NaN \\\\\n",
      "01/10/2022 & RNN &     NaN &     NaN &  NaN &  NaN &  NaN &  NaN \\\\\n",
      "           & LSTM &     NaN &     NaN &  NaN &  NaN &  NaN &  NaN \\\\\n",
      "           & GRU &     NaN &     NaN &  NaN &  NaN &  NaN &  NaN \\\\\n",
      "08/10/2022 & RNN &     NaN &     NaN &  NaN &  NaN &  NaN &  NaN \\\\\n",
      "           & LSTM &     NaN &     NaN &  NaN &  NaN &  NaN &  NaN \\\\\n",
      "           & GRU &     NaN &     NaN &  NaN &  NaN &  NaN &  NaN \\\\\n",
      "08/01/2023 & RNN &     NaN &     NaN &  NaN &  NaN &  NaN &  NaN \\\\\n",
      "           & LSTM &     NaN &     NaN &  NaN &  NaN &  NaN &  NaN \\\\\n",
      "           & GRU &     NaN &     NaN &  NaN &  NaN &  NaN &  NaN \\\\\n",
      "\\bottomrule\n",
      "\\end{tabular}\n",
      "\n"
     ]
    }
   ],
   "source": [
    "print(df_best.to_latex(escape=False))"
   ]
  },
  {
   "cell_type": "markdown",
   "id": "ab574366",
   "metadata": {},
   "source": [
    "## Overall Performance"
   ]
  },
  {
   "cell_type": "code",
   "execution_count": 128,
   "id": "abeaf625",
   "metadata": {},
   "outputs": [],
   "source": [
    "SMALL_SIZE = 26\n",
    "MEDIUM_SIZE = 28\n",
    "BIGGER_SIZE = 30\n",
    "\n",
    "plt.rc('font', size=SMALL_SIZE)          # controls default text sizes\n",
    "plt.rc('axes', titlesize=SMALL_SIZE)     # fontsize of the axes title\n",
    "plt.rc('axes', labelsize=MEDIUM_SIZE)    # fontsize of the x and y labels\n",
    "plt.rc('xtick', labelsize=SMALL_SIZE)    # fontsize of the tick labels\n",
    "plt.rc('ytick', labelsize=SMALL_SIZE)    # fontsize of the tick labels\n",
    "plt.rc('legend', fontsize=SMALL_SIZE)    # legend fontsize\n",
    "plt.rc('figure', titlesize=BIGGER_SIZE)  # fontsize of the figure title\n",
    "\n",
    "plt.rc('text', usetex=True)\n",
    "plt.rc('font', family='serif')"
   ]
  },
  {
   "cell_type": "markdown",
   "id": "4645c058",
   "metadata": {},
   "source": [
    "Select model:"
   ]
  },
  {
   "cell_type": "code",
   "execution_count": 68,
   "id": "fe13904b",
   "metadata": {},
   "outputs": [],
   "source": [
    "str_model = 'RNN'"
   ]
  },
  {
   "cell_type": "code",
   "execution_count": 72,
   "id": "d6cec844",
   "metadata": {},
   "outputs": [],
   "source": [
    "# dates = ['18/09/2022','01/10/2022','08/10/2022','08/01/2023']\n",
    "#str_model = ['RNN', 'LSTM', 'GRU']\n",
    "#weight_type = ['exponential', 'rayleigh', 'bartlett', 'parzen' , 'tukey-hanning']\n",
    "dates = ['18/09/2022','01/10/2022']\n",
    "weight_type = ['exponential']"
   ]
  },
  {
   "cell_type": "code",
   "execution_count": 133,
   "id": "affb2905",
   "metadata": {},
   "outputs": [
    {
     "data": {
      "image/png": "[encoded data removed]",
      "text/plain": [
       "<Figure size 1080x720 with 2 Axes>"
      ]
     },
     "metadata": {
      "needs_background": "light"
     },
     "output_type": "display_data"
    }
   ],
   "source": [
    "fig, axs = plt.subplots(len(dates),1, figsize=(15, 10))\n",
    "for i in range(len(dates)):\n",
    "    df_data = pd.DataFrame()\n",
    "    for j in range(len(weight_type)+1):\n",
    "        if j==0:\n",
    "            with np.load(path+'Results/'+data_names[i]+'_'+str_model+'_results.npz') as data:\n",
    "                df_data = pd.concat([df_data,pd.DataFrame(data['all_metrics'][:,metric])], axis=1, ignore_index=True)\n",
    "        else:    \n",
    "            with np.load(path+'Results/'+data_names[i]+'_'+str_model+'_'+weight_type[j-1]+'_results.npz') as data:\n",
    "                df_data = pd.concat([df_data,pd.DataFrame(data['all_metrics'][:,metric])], axis=1, ignore_index=True)\n",
    "    axs[i].boxplot(df_data)\n",
    "    axs[i].set_title(dates[i])\n",
    "    axs[i].set_xlabel('Weights')\n",
    "    axs[i].set_ylabel('RMSE')\n",
    "    axs[i].set_xticks(list(range(1,len(weight_type)+2)),ind[:len(weight_type)+1])\n",
    "\n",
    "fig.tight_layout()\n",
    "plt.savefig(path+'Figures/'+'overallperf_voltage.pdf', bbox_inches='tight')\n",
    "plt.show()"
   ]
  },
  {
   "cell_type": "code",
   "execution_count": null,
   "id": "9cd0e73f",
   "metadata": {},
   "outputs": [],
   "source": []
  }
 ],
 "metadata": {
  "kernelspec": {
   "display_name": "Python 3 (ipykernel)",
   "language": "python",
   "name": "python3"
  },
  "language_info": {
   "codemirror_mode": {
    "name": "ipython",
    "version": 3
   },
   "file_extension": ".py",
   "mimetype": "text/x-python",
   "name": "python",
   "nbconvert_exporter": "python",
   "pygments_lexer": "ipython3",
   "version": "3.7.12"
  }
 },
 "nbformat": 4,
 "nbformat_minor": 5
}
