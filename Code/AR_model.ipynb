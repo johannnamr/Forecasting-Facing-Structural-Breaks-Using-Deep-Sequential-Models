{
 "cells": [
  {
   "cell_type": "markdown",
   "metadata": {},
   "source": [
    "# AR model"
   ]
  },
  {
   "cell_type": "code",
   "execution_count": 2,
   "metadata": {},
   "outputs": [],
   "source": [
    "from statsmodels.tsa.ar_model import AutoReg, ar_select_order"
   ]
  },
  {
   "cell_type": "code",
   "execution_count": 31,
   "metadata": {},
   "outputs": [],
   "source": [
    "def train_loop_ar(path,num_sim,str_sims,plot_res=False):\n",
    "    \n",
    "    df_sim = pd.DataFrame()\n",
    "    \n",
    "    # loop over all datasets in the simulation setup\n",
    "    for j in range(len(str_sims)):\n",
    "\n",
    "        # print dataset\n",
    "        #print('No. of dataset: ', j+1,'/',len(str_sims))\n",
    "        print('Dataset: ', str_sims[j], '(',j+1,'/',len(str_sims),')')\n",
    "\n",
    "        # load data\n",
    "        data_name = 'sim'+str(num_sim)+'_'+str_sims[j]\n",
    "        with np.load(path+'Temp/'+data_name+'.npz') as data:\n",
    "            y_train = data['y_train']\n",
    "            y_val = data['y_val']\n",
    "            y_test = data['y_test']\n",
    "\n",
    "        # concatenate series into a single array\n",
    "        test_size = y_test.shape[0]\n",
    "        y = np.concatenate((y_train,y_val,y_test),axis=0)\n",
    "\n",
    "        # rolling/expanding window forecast\n",
    "        i=0\n",
    "        pred = []\n",
    "        while i < test_size:\n",
    "            if i == 0:\n",
    "                #sel = ar_select_order(y[-(w_size+test_size-i):-(test_size-i)], maxlag=10, ic='bic') # rolling window\n",
    "                sel = ar_select_order(y[:-(test_size-i)], maxlag=10, ic='bic') # expanding window\n",
    "                ar_lags = sel.ar_lags\n",
    "                res = sel.model.fit()\n",
    "            else:\n",
    "                res = AutoReg(y[:-(test_size-i)], lags = ar_lags).fit()\n",
    "            #print(res.summary())\n",
    "            pred.append(res.predict(start=test_size+i,end=test_size+i))\n",
    "            i = i+1\n",
    "\n",
    "        # evaluate on test set\n",
    "        df_result = format_predictions(pred, y_test)\n",
    "        result_metrics = calculate_metrics(df_result)\n",
    "        #print(result_metrics)\n",
    "\n",
    "        # plot results\n",
    "        if plot_res:\n",
    "            plt.figure(figsize=(15,5))\n",
    "            plt.plot(df_result.value, label=\"True\")\n",
    "            plt.plot(df_result.prediction, label=\"Prediction\")\n",
    "            plt.legend()\n",
    "            plt.title(\"Test Set\")\n",
    "            plt.show()\n",
    "\n",
    "        # append metrics on test set\n",
    "        df_metrics = pd.DataFrame(np.expand_dims((result_metrics['rmse'],result_metrics['mae'],result_metrics['mape'],result_metrics['r2'],),axis=0),columns=['rmse','mae','mape','r2'])\n",
    "        df_sim = pd.concat([df_sim,df_metrics],axis=0, ignore_index=True)\n",
    "\n",
    "    # return results\n",
    "    return df_sim"
   ]
  }
 ],
 "metadata": {
  "kernelspec": {
   "display_name": "Python 3 (ipykernel)",
   "language": "python",
   "name": "python3"
  },
  "language_info": {
   "codemirror_mode": {
    "name": "ipython",
    "version": 3
   },
   "file_extension": ".py",
   "mimetype": "text/x-python",
   "name": "python",
   "nbconvert_exporter": "python",
   "pygments_lexer": "ipython3",
   "version": "3.7.12"
  }
 },
 "nbformat": 4,
 "nbformat_minor": 2
}
