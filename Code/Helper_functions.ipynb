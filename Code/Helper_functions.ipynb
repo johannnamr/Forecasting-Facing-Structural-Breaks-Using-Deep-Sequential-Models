{
 "cells": [
  {
   "cell_type": "code",
   "execution_count": 7,
   "id": "fc93c915",
   "metadata": {},
   "outputs": [],
   "source": [
    "import os\n",
    "from sklearn.metrics import mean_absolute_error, mean_squared_error, r2_score, mean_absolute_percentage_error"
   ]
  },
  {
   "cell_type": "code",
   "execution_count": 8,
   "id": "e96ac3d4",
   "metadata": {},
   "outputs": [],
   "source": [
    "#path = 'C:/Users/Meier/Dropbox (Institut für Statistik)/Structural Breaks + DL/Simulation/Python Code/' "
   ]
  },
  {
   "cell_type": "code",
   "execution_count": 9,
   "id": "bb99e977",
   "metadata": {},
   "outputs": [],
   "source": [
    "def emtpy_temp(path):\n",
    "    for file_name in os.listdir(path):\n",
    "        # construct full file path\n",
    "        file = path + file_name\n",
    "        # remove all files\n",
    "        if os.path.isfile(file):\n",
    "            os.remove(file)\n",
    "            \n",
    "def get_str_sims(tau, fac_beta):\n",
    "    \n",
    "    # get tau - beta factor combinations\n",
    "    str_interm = []\n",
    "    for i in range(tau.shape[0]):\n",
    "        str_interm.extend([''.join('Tau%sBeta%s' %(tau[i],j)) for j in fac_beta])\n",
    "        \n",
    "    # add overall reference\n",
    "    str_sims = ['Ref',*str_interm]\n",
    "    \n",
    "    # add withouth breaks references\n",
    "    str_interm = [''.join('Tau%sRef' %j) for j in tau]\n",
    "    ind = np.arange(1,tau.shape[0]*fac_beta.shape[0]+tau.shape[0]+1,fac_beta.shape[0]+1)\n",
    "    for i in range(tau.shape[0]):\n",
    "        str_sims.insert(ind[i],str_interm[i])\n",
    "    \n",
    "    return str_sims\n",
    "            \n",
    "def del_sim(path):\n",
    "    for file_name in os.listdir(path):\n",
    "        # construct full file path\n",
    "        file = path + file_name\n",
    "        # remove all files containing 'sim' in file name\n",
    "        if os.path.isfile(file) and 'sim' in file_name:\n",
    "            os.remove(file)\n",
    "\n",
    "def format_predictions(predictions, values):\n",
    "    vals = np.concatenate(values, axis=0).ravel()\n",
    "    preds = np.concatenate(predictions, axis=0).ravel()\n",
    "    df_result = pd.DataFrame(data={\"value\": vals, \"prediction\": preds})\n",
    "    df_result = df_result.sort_index()\n",
    "    return df_result\n",
    "\n",
    "def calculate_metrics(df):\n",
    "    return {'rmse' : mean_squared_error(df.value, df.prediction) ** 0.5,\n",
    "            'mae' : mean_absolute_error(df.value, df.prediction),\n",
    "            'mape': mean_absolute_percentage_error(df.value, df.prediction),\n",
    "            'r2' : r2_score(df.value, df.prediction)}\n",
    "\n",
    "def get_results(arr_results):\n",
    "    arr_mean = np.mean(arr_results,axis=1)\n",
    "    arr_std = np.std(arr_results,axis=1)\n",
    "    arr_min = np.min(arr_results,axis=1)\n",
    "    arr_max = np.max(arr_results,axis=1)\n",
    "    arr_median = np.median(arr_results,axis=1)\n",
    "    return arr_mean, arr_std, arr_min, arr_max, arr_median\n",
    "\n",
    "def time_format(seconds: int):\n",
    "    if seconds is not None:\n",
    "        seconds = int(seconds)\n",
    "        d = seconds // (3600 * 24)\n",
    "        h = seconds // 3600 % 24\n",
    "        m = seconds % 3600 // 60\n",
    "        s = seconds % 3600 % 60\n",
    "        if d > 0:\n",
    "            return '{:02d}D {:02d}H {:02d}m {:02d}s'.format(d, h, m, s)\n",
    "        elif h > 0:\n",
    "            return '{:02d}H {:02d}m {:02d}s'.format(h, m, s)\n",
    "        elif m > 0:\n",
    "            return '{:02d}m {:02d}s'.format(m, s)\n",
    "        elif s > 0:\n",
    "            return '{:02d}s'.format(s)\n",
    "    return '-'"
   ]
  },
  {
   "cell_type": "code",
   "execution_count": 12,
   "id": "6b87bcd3",
   "metadata": {},
   "outputs": [],
   "source": [
    "#emtpy_temp(path+'Temp/')"
   ]
  },
  {
   "cell_type": "code",
   "execution_count": null,
   "id": "30664bf2",
   "metadata": {},
   "outputs": [],
   "source": []
  }
 ],
 "metadata": {
  "kernelspec": {
   "display_name": "Python 3 (ipykernel)",
   "language": "python",
   "name": "python3"
  },
  "language_info": {
   "codemirror_mode": {
    "name": "ipython",
    "version": 3
   },
   "file_extension": ".py",
   "mimetype": "text/x-python",
   "name": "python",
   "nbconvert_exporter": "python",
   "pygments_lexer": "ipython3",
   "version": "3.7.12"
  }
 },
 "nbformat": 4,
 "nbformat_minor": 5
}
