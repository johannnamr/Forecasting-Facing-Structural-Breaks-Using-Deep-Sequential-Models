{
 "cells": [
  {
   "cell_type": "code",
   "execution_count": 7,
   "id": "fc93c915",
   "metadata": {},
   "outputs": [],
   "source": [
    "import os\n",
    "from sklearn.metrics import mean_absolute_error, mean_squared_error, r2_score, mean_absolute_percentage_error"
   ]
  },
  {
   "cell_type": "code",
   "execution_count": 8,
   "id": "e96ac3d4",
   "metadata": {},
   "outputs": [],
   "source": [
    "#path = 'C:/Users/Meier/Dropbox (Institut für Statistik)/Structural Breaks + DL/Simulation/Python Code/' "
   ]
  },
  {
   "cell_type": "code",
   "execution_count": 9,
   "id": "bb99e977",
   "metadata": {},
   "outputs": [],
   "source": [
    "def emtpy_temp(path):\n",
    "    for file_name in os.listdir(path):\n",
    "        # construct full file path\n",
    "        file = path + file_name\n",
    "        if os.path.isfile(file):\n",
    "            #print('Deleting file:', file)\n",
    "            #print(file_name)\n",
    "            os.remove(file)\n",
    "            \n",
    "def del_sim(path):\n",
    "    for file_name in os.listdir(path):\n",
    "        # construct full file path\n",
    "        file = path + file_name\n",
    "        #if os.path.isfile(file) and file_name != 'interm_results.npz':\n",
    "        if os.path.isfile(file) and 'sim' in file_name:\n",
    "            #print('Deleting file:', file)\n",
    "            #print(file_name)\n",
    "            os.remove(file)\n",
    "        #else:\n",
    "        #    file_wo = os.open(file, os.O_RDONLY)\n",
    "        #    os.close(file_wo)\n",
    "\n",
    "def format_predictions(predictions, values):\n",
    "    vals = np.concatenate(values, axis=0).ravel()\n",
    "    preds = np.concatenate(predictions, axis=0).ravel()\n",
    "    df_result = pd.DataFrame(data={\"value\": vals, \"prediction\": preds})\n",
    "    df_result = df_result.sort_index()\n",
    "    return df_result\n",
    "\n",
    "def calculate_metrics(df):\n",
    "    return {'rmse' : mean_squared_error(df.value, df.prediction) ** 0.5,\n",
    "            'mae' : mean_absolute_error(df.value, df.prediction),\n",
    "            'mape': mean_absolute_percentage_error(df.value, df.prediction),\n",
    "            'r2' : r2_score(df.value, df.prediction)}\n",
    "\n",
    "def get_results(arr_results):\n",
    "    #print(arr_results,arr_results.shape)\n",
    "    arr_mean = np.mean(arr_results,axis=0)\n",
    "    arr_std = np.std(arr_results,axis=0)\n",
    "    arr_min = np.min(arr_results,axis=0)\n",
    "    arr_max = np.max(arr_results,axis=0)\n",
    "    arr_median = np.median(arr_results,axis=0)\n",
    "    return arr_mean, arr_std, arr_min, arr_max, arr_median"
   ]
  },
  {
   "cell_type": "code",
   "execution_count": 12,
   "id": "6b87bcd3",
   "metadata": {},
   "outputs": [],
   "source": [
    "#emtpy_temp(path+'Temp/')"
   ]
  },
  {
   "cell_type": "code",
   "execution_count": null,
   "id": "30664bf2",
   "metadata": {},
   "outputs": [],
   "source": []
  }
 ],
 "metadata": {
  "kernelspec": {
   "display_name": "Python 3 (ipykernel)",
   "language": "python",
   "name": "python3"
  },
  "language_info": {
   "codemirror_mode": {
    "name": "ipython",
    "version": 3
   },
   "file_extension": ".py",
   "mimetype": "text/x-python",
   "name": "python",
   "nbconvert_exporter": "python",
   "pygments_lexer": "ipython3",
   "version": "3.7.12"
  }
 },
 "nbformat": 4,
 "nbformat_minor": 5
}
