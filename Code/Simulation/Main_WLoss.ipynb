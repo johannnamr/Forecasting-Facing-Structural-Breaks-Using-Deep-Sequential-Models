{
 "cells": [
  {
   "cell_type": "markdown",
   "id": "4decb21e",
   "metadata": {},
   "source": [
    "# Main"
   ]
  },
  {
   "cell_type": "code",
   "execution_count": 1,
   "id": "c4f630e5",
   "metadata": {},
   "outputs": [],
   "source": [
    "import numpy as np\n",
    "import matplotlib.pyplot as plt\n",
    "import pandas as pd\n",
    "import itertools\n",
    "import time\n",
    "from scipy import stats"
   ]
  },
  {
   "cell_type": "code",
   "execution_count": 2,
   "id": "265c06b5",
   "metadata": {},
   "outputs": [],
   "source": [
    "path = 'C:/Users/Meier/Institut für Statistik Dropbox/Johanna Meier/Structural Breaks + DL/Simulation/Python Code/' \n",
    "# path = 'C:/Users/Johan/Desktop/Local/'\n",
    "#path= 'C:/Users/Johan/Dropbox (Institut für Statistik)/Structural Breaks + DL/Simulation/Python Code/'\n",
    "#path = 'C:/Users/Slave 1/Desktop/Johanna/'"
   ]
  },
  {
   "cell_type": "code",
   "execution_count": 3,
   "id": "b8ba88a0",
   "metadata": {},
   "outputs": [],
   "source": [
    "str_model = 'RNN' # 'RNN', 'LSTM', 'GRU'\n",
    "setting = 'AR' # 'AR', 'ARIMA'"
   ]
  },
  {
   "cell_type": "code",
   "execution_count": 4,
   "id": "66e0c4b3",
   "metadata": {},
   "outputs": [],
   "source": [
    "reps = 1000         # number of repetitions"
   ]
  },
  {
   "cell_type": "code",
   "execution_count": 5,
   "id": "9806bc50",
   "metadata": {},
   "outputs": [],
   "source": [
    "sim_length = 1000                              # length of simulated sample\n",
    "tau = np.array([0.2,0.5,0.8])                 # break locations\n",
    "fac_beta = np.array([0.5,1,2])                 # break size factor"
   ]
  },
  {
   "cell_type": "code",
   "execution_count": 6,
   "id": "c4dafb0d",
   "metadata": {},
   "outputs": [],
   "source": [
    "test_size = 0.1           # proportion of test set\n",
    "train_size = 0.85         # proportion of training set\n",
    "lags = 1                  # number of lags as features"
   ]
  },
  {
   "cell_type": "code",
   "execution_count": 7,
   "id": "21d44a7b",
   "metadata": {},
   "outputs": [],
   "source": [
    "weight_type = 'bartlett' # 'exponential', 'rayleigh', 'bartlett', 'parzen' , 'tukey-hanning'\n",
    "if weight_type == 'bartlett' or weight_type == 'parzen' or weight_type == 'tukey-hanning':\n",
    "    fac = np.array([1, 0.95, 0.9]) # {1, 0.95, 0.9}\n",
    "    alphas = (sim_length*(1-test_size))**fac   # kernels: {T, T^0.95, T^0.9}\n",
    "else:\n",
    "    alphas = np.array([0.005, 0.01, 0.02]) # exp: {0.005, 0.01, 0.02}, ray: {2*10**(-5), 5*10**(-5), 1*10**(-4)}"
   ]
  },
  {
   "cell_type": "code",
   "execution_count": 8,
   "id": "61eadce0",
   "metadata": {},
   "outputs": [
    {
     "data": {
      "text/plain": [
       "array([900.        , 640.51659161, 455.8461157 ])"
      ]
     },
     "execution_count": 8,
     "metadata": {},
     "output_type": "execute_result"
    }
   ],
   "source": [
    "alphas"
   ]
  },
  {
   "cell_type": "code",
   "execution_count": 9,
   "id": "817196f8",
   "metadata": {},
   "outputs": [],
   "source": [
    "if setting == 'AR':\n",
    "    params = np.array([0.1,0.4,0.7,-0.4]) # AR (phi)\n",
    "if setting == 'ARIMA':\n",
    "    params = [np.array([0.4,-0.4]),np.array([0.3,-0.3])] # ARIMA (phi, theta)\n",
    "    params_list = list(itertools.product(params[0],params[1]))\n",
    "    print(params_list)"
   ]
  },
  {
   "cell_type": "markdown",
   "id": "9bfe0266",
   "metadata": {},
   "source": [
    "Run external notebooks."
   ]
  },
  {
   "cell_type": "code",
   "execution_count": 10,
   "id": "a9c01fd2",
   "metadata": {},
   "outputs": [],
   "source": [
    "%run \"Helper_functions.ipynb\" # notebook containing helper functions\n",
    "%run \"Simulate_data.ipynb\" # notebook containing simulation function\n",
    "%run \"DL_models_WeightedLoss.ipynb\" # notebook containing sequential deep learning models"
   ]
  },
  {
   "cell_type": "markdown",
   "id": "98bc876a",
   "metadata": {},
   "source": [
    "Get names of simulation settings."
   ]
  },
  {
   "cell_type": "code",
   "execution_count": 11,
   "id": "fddfe5cc",
   "metadata": {},
   "outputs": [],
   "source": [
    "str_sims = get_str_sims_breaksonly(tau, fac_beta) # get names of simulation settings"
   ]
  },
  {
   "cell_type": "code",
   "execution_count": 12,
   "id": "2b21c688",
   "metadata": {},
   "outputs": [
    {
     "data": {
      "text/plain": [
       "['Tau0.1Beta0.5',\n",
       " 'Tau0.1Beta1.0',\n",
       " 'Tau0.1Beta2.0',\n",
       " 'Tau0.45Beta0.5',\n",
       " 'Tau0.45Beta1.0',\n",
       " 'Tau0.45Beta2.0',\n",
       " 'Tau0.9Beta0.5',\n",
       " 'Tau0.9Beta1.0',\n",
       " 'Tau0.9Beta2.0']"
      ]
     },
     "execution_count": 12,
     "metadata": {},
     "output_type": "execute_result"
    }
   ],
   "source": [
    "str_sims"
   ]
  },
  {
   "cell_type": "markdown",
   "id": "d7beab80",
   "metadata": {},
   "source": [
    "Run simulation."
   ]
  },
  {
   "cell_type": "code",
   "execution_count": 30,
   "id": "83efb659",
   "metadata": {
    "scrolled": false
   },
   "outputs": [
    {
     "name": "stdout",
     "output_type": "stream",
     "text": [
      "Simulation start: Thu Mar  2 10:03:39 2023\n",
      "Repetition:  1\n",
      "Parameter combination:  1 / 4\n",
      "Dataset:  Tau0.1Beta0.5 ( 1 / 9 )\n",
      "Dataset:  Tau0.1Beta1.0 ( 2 / 9 )\n",
      "Dataset:  Tau0.1Beta2.0 ( 3 / 9 )\n",
      "Dataset:  Tau0.45Beta0.5 ( 4 / 9 )\n",
      "Dataset:  Tau0.45Beta1.0 ( 5 / 9 )\n",
      "Dataset:  Tau0.45Beta2.0 ( 6 / 9 )\n",
      "Dataset:  Tau0.9Beta0.5 ( 7 / 9 )\n",
      "Dataset:  Tau0.9Beta1.0 ( 8 / 9 )\n",
      "Dataset:  Tau0.9Beta2.0 ( 9 / 9 )\n",
      "Parameter combination:  2 / 4\n",
      "Dataset:  Tau0.1Beta0.5 ( 1 / 9 )\n",
      "Dataset:  Tau0.1Beta1.0 ( 2 / 9 )\n",
      "Dataset:  Tau0.1Beta2.0 ( 3 / 9 )\n",
      "Dataset:  Tau0.45Beta0.5 ( 4 / 9 )\n",
      "Dataset:  Tau0.45Beta1.0 ( 5 / 9 )\n",
      "Dataset:  Tau0.45Beta2.0 ( 6 / 9 )\n",
      "Dataset:  Tau0.9Beta0.5 ( 7 / 9 )\n",
      "Dataset:  Tau0.9Beta1.0 ( 8 / 9 )\n",
      "Dataset:  Tau0.9Beta2.0 ( 9 / 9 )\n",
      "Parameter combination:  3 / 4\n",
      "Dataset:  Tau0.1Beta0.5 ( 1 / 9 )\n",
      "Dataset:  Tau0.1Beta1.0 ( 2 / 9 )\n",
      "Dataset:  Tau0.1Beta2.0 ( 3 / 9 )\n",
      "Dataset:  Tau0.45Beta0.5 ( 4 / 9 )\n",
      "Dataset:  Tau0.45Beta1.0 ( 5 / 9 )\n",
      "Dataset:  Tau0.45Beta2.0 ( 6 / 9 )\n",
      "Dataset:  Tau0.9Beta0.5 ( 7 / 9 )\n",
      "Dataset:  Tau0.9Beta1.0 ( 8 / 9 )\n",
      "Dataset:  Tau0.9Beta2.0 ( 9 / 9 )\n",
      "Parameter combination:  4 / 4\n",
      "Dataset:  Tau0.1Beta0.5 ( 1 / 9 )\n",
      "Dataset:  Tau0.1Beta1.0 ( 2 / 9 )\n",
      "Dataset:  Tau0.1Beta2.0 ( 3 / 9 )\n",
      "Dataset:  Tau0.45Beta0.5 ( 4 / 9 )\n",
      "Dataset:  Tau0.45Beta1.0 ( 5 / 9 )\n",
      "Dataset:  Tau0.45Beta2.0 ( 6 / 9 )\n",
      "Dataset:  Tau0.9Beta0.5 ( 7 / 9 )\n",
      "Dataset:  Tau0.9Beta1.0 ( 8 / 9 )\n",
      "Dataset:  Tau0.9Beta2.0 ( 9 / 9 )\n",
      "Elapsed: 14m 47s\n",
      "Simulation end: Thu Mar  2 10:18:27 2023\n"
     ]
    }
   ],
   "source": [
    "# start timer\n",
    "timer_start = time.time()\n",
    "print('Simulation start: %s' %time.ctime(int(timer_start)))\n",
    "\n",
    "# delete all files in Temp folder\n",
    "emtpy_temp(path+'Temp/')\n",
    "\n",
    "results_best_alphas = np.empty([reps,len(params),len(str_sims)])\n",
    "\n",
    "# run specified number of repetitions\n",
    "for i in range(reps):\n",
    "    \n",
    "    # print repetition\n",
    "    print('Repetition: ',i+1)\n",
    "    \n",
    "    # seed\n",
    "    np.random.seed(i)\n",
    "    torch.manual_seed(i)\n",
    "    \n",
    "    # delete all simulation files in Temp folder\n",
    "    del_sim(path+'Temp/')\n",
    "    \n",
    "    # simulate data for given setting and parameters(save csv-files in Temp)\n",
    "    sim_data_breaksonly(setting=setting, params=params, tau=tau, fac_beta=fac_beta, test_size=test_size, l=sim_length, path=path+'Temp/', lags=1, verbose=False)\n",
    "    \n",
    "    # split all data into train, val, and test (save nzp-files in Temp)\n",
    "    split_data_val(setting=setting, params=params, path=path+'Temp/', train_size=train_size)\n",
    "    \n",
    "    # check simulated data\n",
    "    #sim = pd.read_csv(path+'Temp/sim1.csv' ,sep=',',na_values = 'NA')\n",
    "    #data1 = np.load(path+'Temp/sim2_%s.npz' %sim.columns[0])\n",
    "    #data2 = np.load(path+'Temp/sim2_%s.npz' %sim.columns[1])\n",
    "    #plt.plot(data1['y_test'])\n",
    "    #plt.plot(data2['y_test'])\n",
    "    #plt.show()\n",
    "    #del data1,data2\n",
    "             \n",
    "    # DL forecast\n",
    "    if str_model == 'RNN' or str_model =='LSTM' or str_model =='GRU':\n",
    "        \n",
    "        # set parameters\n",
    "        batch_size = 256                  # batch size\n",
    "        input_dim = lags                  # number of lagged features in X\n",
    "        hidden_dim = 10                   # number of hidden nodes per layer\n",
    "        layer_dim = 1                     # number of layers\n",
    "        output_dim = 1                    # output dimension (1 for univariate output)\n",
    "        dropout = 0                       # dropout proportion (only before the last sequential layer)\n",
    "        learning_rate = 1e-3              # learning rate for Adam optimizer\n",
    "        weight_decay = 1e-6               # weight decay for Adam optimizer\n",
    "\n",
    "        # save model parameters in dict\n",
    "        model_params = {'input_dim': input_dim, 'hidden_dim' : hidden_dim,'layer_dim' : layer_dim, 'output_dim' : output_dim, 'dropout_prob' : dropout}\n",
    "        \n",
    "        # train model\n",
    "        results = []\n",
    "        for j in range(len(params)):\n",
    "            print('Parameter combination: ', j+1,'/',len(params))\n",
    "            df_sim, best_alphas = train_loop(model_name=str_model,model_params=model_params,num_sim=j+1,str_sims=str_sims,path=path, lags = lags, weight_type=weight_type, alphas=alphas, batch_size = batch_size, learning_rate=learning_rate, weight_decay=weight_decay)\n",
    "            results.append(df_sim)\n",
    "            results_best_alphas[i,j,:] = best_alphas\n",
    "    \n",
    "    # save intermediate results\n",
    "    new_results = np.expand_dims(np.asarray(results),axis=1)\n",
    "    if i==0:\n",
    "        np.save(path+'Temp/interm_results.npy',new_results)\n",
    "    else:\n",
    "        prev_results = np.load(path+'Temp/interm_results.npy')\n",
    "        all_results = np.concatenate((prev_results,new_results),axis=1) # shape: no. of params x rep x no. of settings x no. of metrics\n",
    "        np.save(path+'Temp/interm_results.npy',all_results)\n",
    "        del prev_results\n",
    "    \n",
    "    # calculate metrics\n",
    "    arr_results = np.load(path+'Temp/interm_results.npy')\n",
    "    arr_mean, arr_std, arr_min, arr_max, arr_median = get_results(arr_results) # aggregate over reps (axis 1)  \n",
    "    np.savez(path+'Results/'+setting+'_'+str_model+'_WLoss_'+weight_type+'_results.npz',mean=arr_mean,std=arr_std,minimum=arr_min,maximum=arr_max,median=arr_median)\n",
    "    del arr_results\n",
    "    \n",
    "    if (i < 10) | (i % 50 == 0):\n",
    "        print('Elapsed: %s' %time_format(time.time() - timer_start))\n",
    "\n",
    "np.save(path+'Results/'+setting+'_'+str_model+'_WLoss_'+weight_type+'_bestalphas.npy', np.squeeze(stats.mode(results_best_alphas,axis=0)))\n",
    "print('Simulation end: %s' %time.ctime(int(time.time())))"
   ]
  }
 ],
 "metadata": {
  "kernelspec": {
   "display_name": "Python 3 (ipykernel)",
   "language": "python",
   "name": "python3"
  },
  "language_info": {
   "codemirror_mode": {
    "name": "ipython",
    "version": 3
   },
   "file_extension": ".py",
   "mimetype": "text/x-python",
   "name": "python",
   "nbconvert_exporter": "python",
   "pygments_lexer": "ipython3",
   "version": "3.7.12"
  }
 },
 "nbformat": 4,
 "nbformat_minor": 5
}
