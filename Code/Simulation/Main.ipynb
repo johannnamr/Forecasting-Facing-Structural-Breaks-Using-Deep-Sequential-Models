{
 "cells": [
  {
   "cell_type": "markdown",
   "id": "4decb21e",
   "metadata": {},
   "source": [
    "# Main"
   ]
  },
  {
   "cell_type": "code",
   "execution_count": 1,
   "id": "c4f630e5",
   "metadata": {},
   "outputs": [],
   "source": [
    "import numpy as np\n",
    "import matplotlib.pyplot as plt\n",
    "import pandas as pd\n",
    "import itertools\n",
    "import time"
   ]
  },
  {
   "cell_type": "code",
   "execution_count": 2,
   "id": "265c06b5",
   "metadata": {},
   "outputs": [],
   "source": [
    "#path = 'C:/Users/Meier/Institut für Statistik Dropbox/Johanna Meier/Structural Breaks + DL/Simulation/Python Code/' \n",
    "path = 'C:/Users/root/Desktop/Sim1/'"
   ]
  },
  {
   "cell_type": "code",
   "execution_count": 3,
   "id": "b8ba88a0",
   "metadata": {},
   "outputs": [],
   "source": [
    "str_model = 'RNN' # 'RNN', 'LSTM', 'GRU', 'AR', 'ARMA'\n",
    "setting = 'ARMA' # 'AR', 'ARMA'"
   ]
  },
  {
   "cell_type": "code",
   "execution_count": 4,
   "id": "66e0c4b3",
   "metadata": {},
   "outputs": [],
   "source": [
    "reps = 2         # number of repetitions"
   ]
  },
  {
   "cell_type": "code",
   "execution_count": 5,
   "id": "9806bc50",
   "metadata": {},
   "outputs": [],
   "source": [
    "sim_length = 1000                              # length of simulated sample\n",
    "tau = np.array([0.2,0.5,0.8])  # break locations\n",
    "fac_beta = np.array([0.5,1,2])                 # break size factor"
   ]
  },
  {
   "cell_type": "code",
   "execution_count": 6,
   "id": "c4dafb0d",
   "metadata": {},
   "outputs": [],
   "source": [
    "test_size = 0.1           # proportion of test set\n",
    "train_size = 0.85         # proportion of training set\n",
    "lags = 1                  # number of lags as features"
   ]
  },
  {
   "cell_type": "code",
   "execution_count": 7,
   "id": "817196f8",
   "metadata": {},
   "outputs": [
    {
     "name": "stdout",
     "output_type": "stream",
     "text": [
      "[(0.4, 0.3), (0.4, -0.3), (-0.4, 0.3), (-0.4, -0.3)]\n"
     ]
    }
   ],
   "source": [
    "if setting == 'AR':\n",
    "    params = np.array([0.1,0.4,0.7,-0.4]) # AR (phi)\n",
    "    params_list = params\n",
    "if setting == 'ARMA':\n",
    "    params = [np.array([0.4,-0.4]),np.array([0.3,-0.3])] # ARMA (phi, theta)\n",
    "    params_list = list(itertools.product(params[0],params[1]))\n",
    "    print(params_list)"
   ]
  },
  {
   "cell_type": "markdown",
   "id": "9bfe0266",
   "metadata": {},
   "source": [
    "Run external notebooks."
   ]
  },
  {
   "cell_type": "code",
   "execution_count": 8,
   "id": "a9c01fd2",
   "metadata": {},
   "outputs": [],
   "source": [
    "%run \"Helper_functions.ipynb\" # notebook containing helper functions\n",
    "%run \"Simulate_data.ipynb\" # notebook containing simulation functions\n",
    "%run \"DL_models.ipynb\" # notebook containing sequential deep learning models\n",
    "%run \"Baseline_models.ipynb\" # notebook containing AR, ARIMA and GARCH models"
   ]
  },
  {
   "cell_type": "markdown",
   "id": "98bc876a",
   "metadata": {},
   "source": [
    "Get names of simulation settings."
   ]
  },
  {
   "cell_type": "code",
   "execution_count": 9,
   "id": "fddfe5cc",
   "metadata": {},
   "outputs": [],
   "source": [
    "str_sims = get_str_sims(tau, fac_beta) # get names of simulation settings"
   ]
  },
  {
   "cell_type": "markdown",
   "id": "d7beab80",
   "metadata": {},
   "source": [
    "Run simulation."
   ]
  },
  {
   "cell_type": "code",
   "execution_count": null,
   "id": "83efb659",
   "metadata": {
    "scrolled": true
   },
   "outputs": [
    {
     "name": "stdout",
     "output_type": "stream",
     "text": [
      "Simulation start: Mon Jun  5 14:20:24 2023\n",
      "Repetition:  1\n",
      "Parameter combination:  1 / 4\n",
      "Dataset:  Ref ( 1 / 13 )\n",
      "Dataset:  Tau0.2Ref ( 2 / 13 )\n",
      "Dataset:  Tau0.2Beta0.5 ( 3 / 13 )\n",
      "Dataset:  Tau0.2Beta1.0 ( 4 / 13 )\n",
      "Dataset:  Tau0.2Beta2.0 ( 5 / 13 )\n",
      "Dataset:  Tau0.5Ref ( 6 / 13 )\n",
      "Dataset:  Tau0.5Beta0.5 ( 7 / 13 )\n",
      "Dataset:  Tau0.5Beta1.0 ( 8 / 13 )\n",
      "Dataset:  Tau0.5Beta2.0 ( 9 / 13 )\n",
      "Dataset:  Tau0.8Ref ( 10 / 13 )\n",
      "Dataset:  Tau0.8Beta0.5 ( 11 / 13 )\n",
      "Dataset:  Tau0.8Beta1.0 ( 12 / 13 )\n",
      "Dataset:  Tau0.8Beta2.0 ( 13 / 13 )\n",
      "Parameter combination:  2 / 4\n",
      "Dataset:  Ref ( 1 / 13 )\n",
      "Dataset:  Tau0.2Ref ( 2 / 13 )\n",
      "Dataset:  Tau0.2Beta0.5 ( 3 / 13 )\n",
      "Dataset:  Tau0.2Beta1.0 ( 4 / 13 )\n",
      "Dataset:  Tau0.2Beta2.0 ( 5 / 13 )\n"
     ]
    }
   ],
   "source": [
    "# start timer\n",
    "timer_start = time.time()\n",
    "print('Simulation start: %s' %time.ctime(int(timer_start)))\n",
    "\n",
    "# delete all files in Temp folder\n",
    "emtpy_temp(path+'Temp/')\n",
    "\n",
    "# run specified number of repetitions\n",
    "for i in range(reps):\n",
    "    \n",
    "    # print repetition\n",
    "    print('Repetition: ',i+1)\n",
    "    \n",
    "    # seed\n",
    "    np.random.seed(i)\n",
    "    torch.manual_seed(i)\n",
    "    \n",
    "    # delete all simulation files in Temp folder\n",
    "    del_sim(path+'Temp/')\n",
    "    \n",
    "    # simulate data for given setting and parameters(save csv-files in Temp)\n",
    "    sim_data(setting=setting, params=params, tau=tau, fac_beta=fac_beta, test_size=test_size, l=sim_length, path=path+'Temp/', lags=1, verbose=False)\n",
    "    \n",
    "    # split all data into train, val, and test (save nzp-files in Temp)\n",
    "    split_data_val(setting=setting, params=params, path=path+'Temp/', train_size=train_size)\n",
    "    \n",
    "    # check simulated data\n",
    "    #sim = pd.read_csv(path+'Temp/sim1.csv' ,sep=',',na_values = 'NA')\n",
    "    #data1 = np.load(path+'Temp/sim2_%s.npz' %sim.columns[0])\n",
    "    #data2 = np.load(path+'Temp/sim2_%s.npz' %sim.columns[1])\n",
    "    #plt.plot(data1['y_test'])\n",
    "    #plt.plot(data2['y_test'])\n",
    "    #plt.show()\n",
    "    #del data1,data2\n",
    "             \n",
    "    # DL forecast\n",
    "    # if DL: get combination forecasts\n",
    "    if str_model == 'RNN' or str_model =='LSTM' or str_model =='GRU':\n",
    "        \n",
    "        # set parameters\n",
    "        batch_size = 256                   # batch size\n",
    "        input_dim = lags                  # number of lagged features in X\n",
    "        hidden_dim = 10                   # number of hidden nodes per layer\n",
    "        layer_dim = 1                     # number of layers\n",
    "        output_dim = 1                    # output dimension (1 for univariate output)\n",
    "        dropout = 0                       # dropout proportion (only before the last sequential layer)\n",
    "        learning_rate = 1e-3              # learning rate for Adam optimizer\n",
    "        weight_decay = 1e-6               # weight decay for Adam optimizer\n",
    "\n",
    "        # save model parameters in dict\n",
    "        model_params = {'input_dim': input_dim, 'hidden_dim' : hidden_dim,'layer_dim' : layer_dim, 'output_dim' : output_dim, 'dropout_prob' : dropout}\n",
    "        \n",
    "        # train model\n",
    "        results = []\n",
    "        for j in range(len(params_list)):\n",
    "            print('Parameter combination: ', j+1,'/',len(params_list))\n",
    "            df_sim = train_loop(model_name=str_model,model_params=model_params,num_sim=j+1,str_sims=str_sims,path=path,batch_size=batch_size, learning_rate=learning_rate, weight_decay=weight_decay)\n",
    "            results.append(df_sim)\n",
    "        \n",
    "    \n",
    "    # forecast AR model\n",
    "    if str_model == 'AR':\n",
    "        \n",
    "        results = []\n",
    "        for j in range(len(params)):\n",
    "            print('Parameter combination: ', j+1,'/',len(params))\n",
    "            df_sim = train_loop_ar(path=path,num_sim=j+1,str_sims=str_sims,plot_res=False)\n",
    "            results.append(df_sim)\n",
    "    \n",
    "    # forecast ARMA model\n",
    "    if str_model == 'ARMA':\n",
    "        \n",
    "        params_list = list(itertools.product(params[0],params[1]))\n",
    "        \n",
    "        results = []\n",
    "        for j in range(len(params_list)):\n",
    "            print('Parameter combination: ', j+1,'/',len(params_list))\n",
    "            df_sim = train_loop_arma(path=path,num_sim=j+1,str_sims=str_sims)\n",
    "            results.append(df_sim)\n",
    "    \n",
    "    # forecast GARCH model\n",
    "    #if str_model == 'GARCH':\n",
    "        \n",
    "    #    results = []\n",
    "    #    for j in range(len(params)):\n",
    "    #        print('Parameter combination: ', j+1,'/',len(params))\n",
    "    #        df_sim = train_loop_garch(path=path,num_sim=j+1,str_sims=str_sims)\n",
    "    #        results.append(df_sim)\n",
    "        \n",
    "    \n",
    "    # save intermediate results\n",
    "    new_results = np.expand_dims(np.asarray(results),axis=1)\n",
    "    if i==0:\n",
    "        np.save(path+'Temp/interm_results.npy',new_results)\n",
    "    else:\n",
    "        prev_results = np.load(path+'Temp/interm_results.npy')\n",
    "        all_results = np.concatenate((prev_results,new_results),axis=1) # shape: no. of params x rep x no. of settings x no. of metrics\n",
    "        np.save(path+'Temp/interm_results.npy',all_results)\n",
    "        del prev_results\n",
    "    \n",
    "    # calculate metrics\n",
    "    arr_results = np.load(path+'Temp/interm_results.npy')\n",
    "    arr_mean, arr_std, arr_min, arr_max, arr_median = get_results(arr_results) # aggregate over reps (axis 1)  \n",
    "    np.savez(path+'Results/'+setting+'_'+str_model+'_results.npz',mean=arr_mean,std=arr_std,minimum=arr_min,maximum=arr_max,median=arr_median)\n",
    "    del arr_results\n",
    "    \n",
    "    if (i < 10) | (i % 50 == 0):\n",
    "        print('Elapsed: %s' %time_format(time.time() - timer_start))\n",
    "\n",
    "print('Simulation end: %s' %time.ctime(int(time.time())))"
   ]
  },
  {
   "cell_type": "code",
   "execution_count": null,
   "id": "4ca0e118",
   "metadata": {},
   "outputs": [],
   "source": []
  }
 ],
 "metadata": {
  "kernelspec": {
   "display_name": "Python 3 (ipykernel)",
   "language": "python",
   "name": "python3"
  },
  "language_info": {
   "codemirror_mode": {
    "name": "ipython",
    "version": 3
   },
   "file_extension": ".py",
   "mimetype": "text/x-python",
   "name": "python",
   "nbconvert_exporter": "python",
   "pygments_lexer": "ipython3",
   "version": "3.7.12"
  }
 },
 "nbformat": 4,
 "nbformat_minor": 5
}
