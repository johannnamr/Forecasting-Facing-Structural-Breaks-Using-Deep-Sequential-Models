{
 "cells": [
  {
   "cell_type": "markdown",
   "id": "fb2887d2",
   "metadata": {},
   "source": [
    "# Simulate data"
   ]
  },
  {
   "cell_type": "code",
   "execution_count": null,
   "id": "6ddd704a",
   "metadata": {},
   "outputs": [],
   "source": [
    "#! pip install arch"
   ]
  },
  {
   "cell_type": "code",
   "execution_count": 2,
   "id": "17a2d501",
   "metadata": {},
   "outputs": [],
   "source": [
    "import itertools\n",
    "from statsmodels.tsa.arima_process import ArmaProcess\n",
    "from statsmodels.tsa.api import SARIMAX\n",
    "from arch.univariate import arch_model"
   ]
  },
  {
   "cell_type": "code",
   "execution_count": 3,
   "id": "c9d8f61a",
   "metadata": {},
   "outputs": [],
   "source": [
    "#import numpy as np\n",
    "#import pandas as pd\n",
    "#import matplotlib.pyplot as plt"
   ]
  },
  {
   "cell_type": "code",
   "execution_count": 4,
   "id": "a6d05259",
   "metadata": {},
   "outputs": [],
   "source": [
    "#path = 'C:/Users/Meier/Dropbox (Institut für Statistik)/Structural Breaks + DL/Simulation/Python Code/'"
   ]
  },
  {
   "cell_type": "code",
   "execution_count": 32,
   "id": "94a27611",
   "metadata": {},
   "outputs": [],
   "source": [
    "#setting = 'GARCH' # 'AR', 'ARIMA', 'GARCH'"
   ]
  },
  {
   "cell_type": "code",
   "execution_count": 16,
   "id": "b7e9127b",
   "metadata": {},
   "outputs": [],
   "source": [
    "#test_size = 0.1                                # proportion of test set\n",
    "#l = 5000                                       # length of simulated sample\n",
    "#tau = np.array([0.1,0.2,0.3,0.4,0.5,0.6,0.7])  # break locations\n",
    "#fac_beta = np.array([0.5,1,2])               # break size factor"
   ]
  },
  {
   "cell_type": "code",
   "execution_count": 36,
   "id": "b8a93e15",
   "metadata": {},
   "outputs": [
    {
     "name": "stdout",
     "output_type": "stream",
     "text": [
      "Requirement already satisfied: arch in c:\\users\\meier\\anaconda3\\lib\\site-packages (5.2.0)\n",
      "Requirement already satisfied: property-cached>=1.6.4 in c:\\users\\meier\\anaconda3\\lib\\site-packages (from arch) (1.6.4)\n",
      "Requirement already satisfied: scipy>=1.3 in c:\\users\\meier\\anaconda3\\lib\\site-packages (from arch) (1.7.3)\n",
      "Requirement already satisfied: pandas>=1.0 in c:\\users\\meier\\anaconda3\\lib\\site-packages (from arch) (1.4.2)\n",
      "Requirement already satisfied: statsmodels>=0.11 in c:\\users\\meier\\anaconda3\\lib\\site-packages (from arch) (0.13.2)\n",
      "Requirement already satisfied: numpy>=1.17 in c:\\users\\meier\\anaconda3\\lib\\site-packages (from arch) (1.21.5)\n",
      "Requirement already satisfied: python-dateutil>=2.8.1 in c:\\users\\meier\\anaconda3\\lib\\site-packages (from pandas>=1.0->arch) (2.8.2)\n",
      "Requirement already satisfied: pytz>=2020.1 in c:\\users\\meier\\anaconda3\\lib\\site-packages (from pandas>=1.0->arch) (2021.3)\n",
      "Requirement already satisfied: six>=1.5 in c:\\users\\meier\\anaconda3\\lib\\site-packages (from python-dateutil>=2.8.1->pandas>=1.0->arch) (1.16.0)\n",
      "Requirement already satisfied: patsy>=0.5.2 in c:\\users\\meier\\anaconda3\\lib\\site-packages (from statsmodels>=0.11->arch) (0.5.2)\n",
      "Requirement already satisfied: packaging>=21.3 in c:\\users\\meier\\anaconda3\\lib\\site-packages (from statsmodels>=0.11->arch) (21.3)\n",
      "Requirement already satisfied: pyparsing!=3.0.5,>=2.0.2 in c:\\users\\meier\\anaconda3\\lib\\site-packages (from packaging>=21.3->statsmodels>=0.11->arch) (3.0.4)\n"
     ]
    }
   ],
   "source": [
    "#if setting == 'AR':\n",
    "#    params = np.array([0.1,0.5,0.9,0.95,0.99]) # AR (phi)\n",
    "#if setting == 'ARIMA':\n",
    "#    params = [np.array([0.1,0.5,0.9,0.95,0.99]),np.array([0.3,-0.3])] # ARIMA (phi, theta)\n",
    "#    print(list(itertools.product(params[0],params[1])))\n",
    "#if setting == 'GARCH':\n",
    "#    params = [np.array([0.1,0.8]), np.array([0.45,0.45]), np.array([0.8,0.1])] # GARCH (phi,theta)"
   ]
  },
  {
   "cell_type": "code",
   "execution_count": 56,
   "id": "7f9c75ac",
   "metadata": {},
   "outputs": [],
   "source": [
    "def sim_data(setting, params, tau, fac_beta, test_size, l, path, lags=1, verbose=False):\n",
    "    \n",
    "    # zip parameter combinations if necessary\n",
    "    if setting == 'ARIMA':\n",
    "        params_list = list(itertools.product(params[0],params[1]))\n",
    "    else:\n",
    "        params_list = params\n",
    "    \n",
    "    # loop over all parameter combinations\n",
    "    num_ref = 0\n",
    "    num_tau = 0\n",
    "    num_beta = 0\n",
    "    for param in range(len(params_list)):  \n",
    "        \n",
    "        # simulate data withouth break\n",
    "        if setting == 'AR':\n",
    "            ar = np.array([1, -params_list[param]])\n",
    "            ma = np.array([1])\n",
    "            model = ArmaProcess(ar, ma)\n",
    "            series = model.generate_sample(nsample=l+lags)\n",
    "        if setting == 'ARIMA':\n",
    "            zero_dat = np.zeros(l)\n",
    "            model = SARIMAX(zero_dat, order=(1,1,1), initialization='diffuse')\n",
    "            series = model.simulate([params_list[param][0],1,params_list[param][1]],l)\n",
    "        if setting == 'GARCH':\n",
    "            model = arch_model(None, mean='Zero', vol='Garch', p=1, q=1, dist=\"Normal\")\n",
    "            series = np.array(model.simulate([params_list[param][0],0,params_list[param][1]], l).data)\n",
    "        num_ref += 1\n",
    "        df = pd.DataFrame(series, columns=['Ref'])\n",
    "        if verbose:\n",
    "            plt.plot(series, color='green')\n",
    "        \n",
    "        # loop over break locations\n",
    "        for t in tau:\n",
    "            num_tau += 1\n",
    "            \n",
    "            # get break location\n",
    "            break_loc = int((1-test_size)*t*l+lags) # location at specified proportion of training set (excluding the observations needed for lags)\n",
    "            \n",
    "            # save simulated series after breakpoint\n",
    "            series2 = np.empty_like(series)\n",
    "            series2[:] = np.nan\n",
    "            series2[(break_loc-lags):] = series.copy()[(break_loc-lags):]\n",
    "            colstr = 'Tau'+str(t)+'Ref'\n",
    "            df2 = pd.DataFrame(series2, columns=[colstr])\n",
    "            df = pd.concat([df,df2], axis=1)\n",
    "            if verbose:\n",
    "                plt.plot(series2, color='red')\n",
    "            \n",
    "            # loop over break sizes\n",
    "            for fb in fac_beta:\n",
    "                num_beta += 1\n",
    "                \n",
    "                # get break size\n",
    "                beta = fb*np.std(series[lags:]) # determine the size of the break\n",
    "            \n",
    "                # add single mean break\n",
    "                series_break = series.copy()\n",
    "                series_break[lags:break_loc] += beta # add constant\n",
    "            \n",
    "                # save simulated series with break\n",
    "                colstr = 'Tau'+str(t)+'Beta'+str(fb)\n",
    "                df_break = pd.DataFrame(series_break, columns=[colstr])\n",
    "                df = pd.concat([df,df_break], axis=1)\n",
    "            if verbose:\n",
    "                plt.plot(series_break, color='blue')\n",
    "            \n",
    "        # save all simulated series\n",
    "        df.to_csv(path+'sim'+str(num_ref)+'.csv',na_rep='NA', index=False)\n",
    "        if verbose:\n",
    "            print('sim'+str(num_ref))\n",
    "            plt.show()\n",
    "            print(df)\n",
    "    \n",
    "    #return df\n",
    "        "
   ]
  },
  {
   "cell_type": "code",
   "execution_count": 57,
   "id": "c229fc15",
   "metadata": {},
   "outputs": [
    {
     "name": "stdout",
     "output_type": "stream",
     "text": [
      "[-0.34019226 -0.77394117  0.05211961 ...  0.71990777  1.24569881\n",
      "  0.38988778]\n",
      "0      -0.340192\n",
      "1      -0.773941\n",
      "2       0.052120\n",
      "3       0.496353\n",
      "4      -0.113934\n",
      "          ...   \n",
      "4995    1.050758\n",
      "4996   -0.377110\n",
      "4997    0.719908\n",
      "4998    1.245699\n",
      "4999    0.389888\n",
      "Name: Ref, Length: 5000, dtype: float64\n",
      "sim1\n"
     ]
    },
    {
     "data": {
      "image/png": "[encoded data removed]",
      "text/plain": [
       "<Figure size 432x288 with 1 Axes>"
      ]
     },
     "metadata": {
      "needs_background": "light"
     },
     "output_type": "display_data"
    },
    {
     "name": "stdout",
     "output_type": "stream",
     "text": [
      "           Ref  Tau0.1Ref  Tau0.1Beta0.5  Tau0.1Beta1.0  Tau0.1Beta2.0  \\\n",
      "0    -0.340192        NaN      -0.340192      -0.340192      -0.340192   \n",
      "1    -0.773941        NaN      -0.421900      -0.069858       0.634225   \n",
      "2     0.052120        NaN       0.404161       0.756203       1.460286   \n",
      "3     0.496353        NaN       0.848395       1.200436       1.904520   \n",
      "4    -0.113934        NaN       0.238108       0.590149       1.294233   \n",
      "...        ...        ...            ...            ...            ...   \n",
      "4995  1.050758   1.050758       1.050758       1.050758       1.050758   \n",
      "4996 -0.377110  -0.377110      -0.377110      -0.377110      -0.377110   \n",
      "4997  0.719908   0.719908       0.719908       0.719908       0.719908   \n",
      "4998  1.245699   1.245699       1.245699       1.245699       1.245699   \n",
      "4999  0.389888   0.389888       0.389888       0.389888       0.389888   \n",
      "\n",
      "      Tau0.2Ref  Tau0.2Beta0.5  Tau0.2Beta1.0  Tau0.2Beta2.0  Tau0.3Ref  ...  \\\n",
      "0           NaN      -0.340192      -0.340192      -0.340192        NaN  ...   \n",
      "1           NaN      -0.421900      -0.069858       0.634225        NaN  ...   \n",
      "2           NaN       0.404161       0.756203       1.460286        NaN  ...   \n",
      "3           NaN       0.848395       1.200436       1.904520        NaN  ...   \n",
      "4           NaN       0.238108       0.590149       1.294233        NaN  ...   \n",
      "...         ...            ...            ...            ...        ...  ...   \n",
      "4995   1.050758       1.050758       1.050758       1.050758   1.050758  ...   \n",
      "4996  -0.377110      -0.377110      -0.377110      -0.377110  -0.377110  ...   \n",
      "4997   0.719908       0.719908       0.719908       0.719908   0.719908  ...   \n",
      "4998   1.245699       1.245699       1.245699       1.245699   1.245699  ...   \n",
      "4999   0.389888       0.389888       0.389888       0.389888   0.389888  ...   \n",
      "\n",
      "      Tau0.5Beta1.0  Tau0.5Beta2.0  Tau0.6Ref  Tau0.6Beta0.5  Tau0.6Beta1.0  \\\n",
      "0         -0.340192      -0.340192        NaN      -0.340192      -0.340192   \n",
      "1         -0.069858       0.634225        NaN      -0.421900      -0.069858   \n",
      "2          0.756203       1.460286        NaN       0.404161       0.756203   \n",
      "3          1.200436       1.904520        NaN       0.848395       1.200436   \n",
      "4          0.590149       1.294233        NaN       0.238108       0.590149   \n",
      "...             ...            ...        ...            ...            ...   \n",
      "4995       1.050758       1.050758   1.050758       1.050758       1.050758   \n",
      "4996      -0.377110      -0.377110  -0.377110      -0.377110      -0.377110   \n",
      "4997       0.719908       0.719908   0.719908       0.719908       0.719908   \n",
      "4998       1.245699       1.245699   1.245699       1.245699       1.245699   \n",
      "4999       0.389888       0.389888   0.389888       0.389888       0.389888   \n",
      "\n",
      "      Tau0.6Beta2.0  Tau0.7Ref  Tau0.7Beta0.5  Tau0.7Beta1.0  Tau0.7Beta2.0  \n",
      "0         -0.340192        NaN      -0.340192      -0.340192      -0.340192  \n",
      "1          0.634225        NaN      -0.421900      -0.069858       0.634225  \n",
      "2          1.460286        NaN       0.404161       0.756203       1.460286  \n",
      "3          1.904520        NaN       0.848395       1.200436       1.904520  \n",
      "4          1.294233        NaN       0.238108       0.590149       1.294233  \n",
      "...             ...        ...            ...            ...            ...  \n",
      "4995       1.050758   1.050758       1.050758       1.050758       1.050758  \n",
      "4996      -0.377110  -0.377110      -0.377110      -0.377110      -0.377110  \n",
      "4997       0.719908   0.719908       0.719908       0.719908       0.719908  \n",
      "4998       1.245699   1.245699       1.245699       1.245699       1.245699  \n",
      "4999       0.389888   0.389888       0.389888       0.389888       0.389888  \n",
      "\n",
      "[5000 rows x 29 columns]\n",
      "[ 1.65317742 -1.80114857  0.649631   ... -0.34302475 -0.68835536\n",
      " -0.45074592]\n",
      "0       1.653177\n",
      "1      -1.801149\n",
      "2       0.649631\n",
      "3       0.933784\n",
      "4      -0.864067\n",
      "          ...   \n",
      "4995   -2.374739\n",
      "4996   -1.091621\n",
      "4997   -0.343025\n",
      "4998   -0.688355\n",
      "4999   -0.450746\n",
      "Name: Ref, Length: 5000, dtype: float64\n",
      "sim2\n"
     ]
    },
    {
     "data": {
      "image/png": "[encoded data removed]",
      "text/plain": [
       "<Figure size 432x288 with 1 Axes>"
      ]
     },
     "metadata": {
      "needs_background": "light"
     },
     "output_type": "display_data"
    },
    {
     "name": "stdout",
     "output_type": "stream",
     "text": [
      "           Ref  Tau0.1Ref  Tau0.1Beta0.5  Tau0.1Beta1.0  Tau0.1Beta2.0  \\\n",
      "0     1.653177        NaN       1.653177       1.653177       1.653177   \n",
      "1    -1.801149        NaN      -1.348504      -0.895860       0.009429   \n",
      "2     0.649631        NaN       1.102275       1.554920       2.460208   \n",
      "3     0.933784        NaN       1.386428       1.839073       2.744362   \n",
      "4    -0.864067        NaN      -0.411423       0.041221       0.946510   \n",
      "...        ...        ...            ...            ...            ...   \n",
      "4995 -2.374739  -2.374739      -2.374739      -2.374739      -2.374739   \n",
      "4996 -1.091621  -1.091621      -1.091621      -1.091621      -1.091621   \n",
      "4997 -0.343025  -0.343025      -0.343025      -0.343025      -0.343025   \n",
      "4998 -0.688355  -0.688355      -0.688355      -0.688355      -0.688355   \n",
      "4999 -0.450746  -0.450746      -0.450746      -0.450746      -0.450746   \n",
      "\n",
      "      Tau0.2Ref  Tau0.2Beta0.5  Tau0.2Beta1.0  Tau0.2Beta2.0  Tau0.3Ref  ...  \\\n",
      "0           NaN       1.653177       1.653177       1.653177        NaN  ...   \n",
      "1           NaN      -1.348504      -0.895860       0.009429        NaN  ...   \n",
      "2           NaN       1.102275       1.554920       2.460208        NaN  ...   \n",
      "3           NaN       1.386428       1.839073       2.744362        NaN  ...   \n",
      "4           NaN      -0.411423       0.041221       0.946510        NaN  ...   \n",
      "...         ...            ...            ...            ...        ...  ...   \n",
      "4995  -2.374739      -2.374739      -2.374739      -2.374739  -2.374739  ...   \n",
      "4996  -1.091621      -1.091621      -1.091621      -1.091621  -1.091621  ...   \n",
      "4997  -0.343025      -0.343025      -0.343025      -0.343025  -0.343025  ...   \n",
      "4998  -0.688355      -0.688355      -0.688355      -0.688355  -0.688355  ...   \n",
      "4999  -0.450746      -0.450746      -0.450746      -0.450746  -0.450746  ...   \n",
      "\n",
      "      Tau0.5Beta1.0  Tau0.5Beta2.0  Tau0.6Ref  Tau0.6Beta0.5  Tau0.6Beta1.0  \\\n",
      "0          1.653177       1.653177        NaN       1.653177       1.653177   \n",
      "1         -0.895860       0.009429        NaN      -1.348504      -0.895860   \n",
      "2          1.554920       2.460208        NaN       1.102275       1.554920   \n",
      "3          1.839073       2.744362        NaN       1.386428       1.839073   \n",
      "4          0.041221       0.946510        NaN      -0.411423       0.041221   \n",
      "...             ...            ...        ...            ...            ...   \n",
      "4995      -2.374739      -2.374739  -2.374739      -2.374739      -2.374739   \n",
      "4996      -1.091621      -1.091621  -1.091621      -1.091621      -1.091621   \n",
      "4997      -0.343025      -0.343025  -0.343025      -0.343025      -0.343025   \n",
      "4998      -0.688355      -0.688355  -0.688355      -0.688355      -0.688355   \n",
      "4999      -0.450746      -0.450746  -0.450746      -0.450746      -0.450746   \n",
      "\n",
      "      Tau0.6Beta2.0  Tau0.7Ref  Tau0.7Beta0.5  Tau0.7Beta1.0  Tau0.7Beta2.0  \n",
      "0          1.653177        NaN       1.653177       1.653177       1.653177  \n",
      "1          0.009429        NaN      -1.348504      -0.895860       0.009429  \n",
      "2          2.460208        NaN       1.102275       1.554920       2.460208  \n",
      "3          2.744362        NaN       1.386428       1.839073       2.744362  \n",
      "4          0.946510        NaN      -0.411423       0.041221       0.946510  \n",
      "...             ...        ...            ...            ...            ...  \n",
      "4995      -2.374739  -2.374739      -2.374739      -2.374739      -2.374739  \n",
      "4996      -1.091621  -1.091621      -1.091621      -1.091621      -1.091621  \n",
      "4997      -0.343025  -0.343025      -0.343025      -0.343025      -0.343025  \n",
      "4998      -0.688355  -0.688355      -0.688355      -0.688355      -0.688355  \n",
      "4999      -0.450746  -0.450746      -0.450746      -0.450746      -0.450746  \n",
      "\n",
      "[5000 rows x 29 columns]\n",
      "[ 0.22547754  0.69298688 -0.18270673 ... -2.11303043 -0.38141073\n",
      " -0.99132497]\n",
      "0       0.225478\n",
      "1       0.692987\n",
      "2      -0.182707\n",
      "3       0.699810\n",
      "4       0.351669\n",
      "          ...   \n",
      "4995    0.607042\n",
      "4996   -0.558082\n",
      "4997   -2.113030\n",
      "4998   -0.381411\n",
      "4999   -0.991325\n",
      "Name: Ref, Length: 5000, dtype: float64\n",
      "sim3\n"
     ]
    },
    {
     "data": {
      "image/png": "[encoded data removed]",
      "text/plain": [
       "<Figure size 432x288 with 1 Axes>"
      ]
     },
     "metadata": {
      "needs_background": "light"
     },
     "output_type": "display_data"
    },
    {
     "name": "stdout",
     "output_type": "stream",
     "text": [
      "           Ref  Tau0.1Ref  Tau0.1Beta0.5  Tau0.1Beta1.0  Tau0.1Beta2.0  \\\n",
      "0     0.225478        NaN       0.225478       0.225478       0.225478   \n",
      "1     0.692987        NaN       1.160983       1.628978       2.564970   \n",
      "2    -0.182707        NaN       0.285289       0.753285       1.689276   \n",
      "3     0.699810        NaN       1.167806       1.635801       2.571793   \n",
      "4     0.351669        NaN       0.819664       1.287660       2.223652   \n",
      "...        ...        ...            ...            ...            ...   \n",
      "4995  0.607042   0.607042       0.607042       0.607042       0.607042   \n",
      "4996 -0.558082  -0.558082      -0.558082      -0.558082      -0.558082   \n",
      "4997 -2.113030  -2.113030      -2.113030      -2.113030      -2.113030   \n",
      "4998 -0.381411  -0.381411      -0.381411      -0.381411      -0.381411   \n",
      "4999 -0.991325  -0.991325      -0.991325      -0.991325      -0.991325   \n",
      "\n",
      "      Tau0.2Ref  Tau0.2Beta0.5  Tau0.2Beta1.0  Tau0.2Beta2.0  Tau0.3Ref  ...  \\\n",
      "0           NaN       0.225478       0.225478       0.225478        NaN  ...   \n",
      "1           NaN       1.160983       1.628978       2.564970        NaN  ...   \n",
      "2           NaN       0.285289       0.753285       1.689276        NaN  ...   \n",
      "3           NaN       1.167806       1.635801       2.571793        NaN  ...   \n",
      "4           NaN       0.819664       1.287660       2.223652        NaN  ...   \n",
      "...         ...            ...            ...            ...        ...  ...   \n",
      "4995   0.607042       0.607042       0.607042       0.607042   0.607042  ...   \n",
      "4996  -0.558082      -0.558082      -0.558082      -0.558082  -0.558082  ...   \n",
      "4997  -2.113030      -2.113030      -2.113030      -2.113030  -2.113030  ...   \n",
      "4998  -0.381411      -0.381411      -0.381411      -0.381411  -0.381411  ...   \n",
      "4999  -0.991325      -0.991325      -0.991325      -0.991325  -0.991325  ...   \n",
      "\n",
      "      Tau0.5Beta1.0  Tau0.5Beta2.0  Tau0.6Ref  Tau0.6Beta0.5  Tau0.6Beta1.0  \\\n",
      "0          0.225478       0.225478        NaN       0.225478       0.225478   \n",
      "1          1.628978       2.564970        NaN       1.160983       1.628978   \n",
      "2          0.753285       1.689276        NaN       0.285289       0.753285   \n",
      "3          1.635801       2.571793        NaN       1.167806       1.635801   \n",
      "4          1.287660       2.223652        NaN       0.819664       1.287660   \n",
      "...             ...            ...        ...            ...            ...   \n",
      "4995       0.607042       0.607042   0.607042       0.607042       0.607042   \n",
      "4996      -0.558082      -0.558082  -0.558082      -0.558082      -0.558082   \n",
      "4997      -2.113030      -2.113030  -2.113030      -2.113030      -2.113030   \n",
      "4998      -0.381411      -0.381411  -0.381411      -0.381411      -0.381411   \n",
      "4999      -0.991325      -0.991325  -0.991325      -0.991325      -0.991325   \n",
      "\n",
      "      Tau0.6Beta2.0  Tau0.7Ref  Tau0.7Beta0.5  Tau0.7Beta1.0  Tau0.7Beta2.0  \n",
      "0          0.225478        NaN       0.225478       0.225478       0.225478  \n",
      "1          2.564970        NaN       1.160983       1.628978       2.564970  \n",
      "2          1.689276        NaN       0.285289       0.753285       1.689276  \n",
      "3          2.571793        NaN       1.167806       1.635801       2.571793  \n",
      "4          2.223652        NaN       0.819664       1.287660       2.223652  \n",
      "...             ...        ...            ...            ...            ...  \n",
      "4995       0.607042   0.607042       0.607042       0.607042       0.607042  \n",
      "4996      -0.558082  -0.558082      -0.558082      -0.558082      -0.558082  \n",
      "4997      -2.113030  -2.113030      -2.113030      -2.113030      -2.113030  \n",
      "4998      -0.381411  -0.381411      -0.381411      -0.381411      -0.381411  \n",
      "4999      -0.991325  -0.991325      -0.991325      -0.991325      -0.991325  \n",
      "\n",
      "[5000 rows x 29 columns]\n"
     ]
    }
   ],
   "source": [
    "#df = sim_data(setting=setting, params=params, tau=tau, fac_beta=fac_beta, test_size=test_size, l=l, path=path+'Temp/', verbose=True,lags=1)\n",
    "#sim_data(setting=setting, params=params, tau=tau, fac_beta=fac_beta, test_size=test_size, l=l, path=path+'Temp/', verbose=True,lags=1)"
   ]
  }
 ],
 "metadata": {
  "kernelspec": {
   "display_name": "Python 3 (ipykernel)",
   "language": "python",
   "name": "python3"
  },
  "language_info": {
   "codemirror_mode": {
    "name": "ipython",
    "version": 3
   },
   "file_extension": ".py",
   "mimetype": "text/x-python",
   "name": "python",
   "nbconvert_exporter": "python",
   "pygments_lexer": "ipython3",
   "version": "3.7.12"
  }
 },
 "nbformat": 4,
 "nbformat_minor": 5
}
