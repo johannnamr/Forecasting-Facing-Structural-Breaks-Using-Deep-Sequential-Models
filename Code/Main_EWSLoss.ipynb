{
 "cells": [
  {
   "cell_type": "markdown",
   "id": "4decb21e",
   "metadata": {},
   "source": [
    "# Main"
   ]
  },
  {
   "cell_type": "code",
   "execution_count": 1,
   "id": "c4f630e5",
   "metadata": {},
   "outputs": [],
   "source": [
    "import numpy as np\n",
    "import matplotlib.pyplot as plt\n",
    "import pandas as pd\n",
    "import itertools\n",
    "import time"
   ]
  },
  {
   "cell_type": "code",
   "execution_count": 2,
   "id": "265c06b5",
   "metadata": {},
   "outputs": [],
   "source": [
    "path = 'C:/Users/Meier/Dropbox (Institut für Statistik)/Structural Breaks + DL/Simulation/Python Code/' \n",
    "# path = 'C:/Users/Johan/Desktop/Local/'\n",
    "#path= 'C:/Users/Johan/Dropbox (Institut für Statistik)/Structural Breaks + DL/Simulation/Python Code/'\n",
    "#path = 'C:/Users/Slave 1/Desktop/Johanna/'"
   ]
  },
  {
   "cell_type": "code",
   "execution_count": 3,
   "id": "b8ba88a0",
   "metadata": {},
   "outputs": [],
   "source": [
    "str_model = 'RNN' # 'RNN', 'LSTM', 'GRU'\n",
    "setting = 'AR' # 'AR', 'ARIMA', 'GARCH'"
   ]
  },
  {
   "cell_type": "code",
   "execution_count": 4,
   "id": "66e0c4b3",
   "metadata": {},
   "outputs": [],
   "source": [
    "reps = 2         # number of repetitions\n",
    "no_sdl = 2       # number of sequential DL models to train"
   ]
  },
  {
   "cell_type": "code",
   "execution_count": 5,
   "id": "9806bc50",
   "metadata": {},
   "outputs": [],
   "source": [
    "test_size = 0.1                                # proportion of test set\n",
    "sim_length = 5000                              # length of simulated sample\n",
    "tau = np.array([0.1,0.2,0.3,0.4,0.5,0.6,0.7])  # break locations\n",
    "#tau = np.array([0.1,0.2])  # break locations\n",
    "fac_beta = np.array([0.5,1,2])                 # break size factor\n",
    "#fac_beta = np.array([0.5,1])                 # break size factor"
   ]
  },
  {
   "cell_type": "code",
   "execution_count": 6,
   "id": "a4fb722d",
   "metadata": {},
   "outputs": [],
   "source": [
    "alpha=0.999\n",
    "batch_size = 64"
   ]
  },
  {
   "cell_type": "code",
   "execution_count": 7,
   "id": "c4dafb0d",
   "metadata": {},
   "outputs": [],
   "source": [
    "test_size = 0.1           # proportion of test set\n",
    "val_size = 0.2            # proportion of validation set\n",
    "lags = 1                  # number of lags as features"
   ]
  },
  {
   "cell_type": "code",
   "execution_count": 8,
   "id": "817196f8",
   "metadata": {},
   "outputs": [],
   "source": [
    "if setting == 'AR':\n",
    "    params = np.array([0.1,0.5,0.9,0.95,0.99]) # AR (phi)\n",
    "if setting == 'ARIMA':\n",
    "    params = [np.array([0.1,0.5,0.9,0.95,0.99]),np.array([0.3,-0.3])] # ARIMA (phi, theta)\n",
    "    params_list = list(itertools.product(params[0],params[1]))\n",
    "    print(params_list)\n",
    "if setting == 'GARCH':\n",
    "    ! pip install arch\n",
    "    params = [np.array([0.1,0.8]), np.array([0.45,0.45]), np.array([0.8,0.1])] # GARCH (phi,theta)"
   ]
  },
  {
   "cell_type": "markdown",
   "id": "9bfe0266",
   "metadata": {},
   "source": [
    "Run external notebooks."
   ]
  },
  {
   "cell_type": "code",
   "execution_count": 9,
   "id": "a9c01fd2",
   "metadata": {},
   "outputs": [],
   "source": [
    "%run \"Helper_functions.ipynb\" # notebook containing helper functions\n",
    "%run \"Simulate_data.ipynb\" # notebook containing simulation function\n",
    "%run \"Split_data.ipynb\" # notebook containing split function\n",
    "%run \"DL_models_EWSLoss.ipynb\" # notebook containing sequential deep learning models"
   ]
  },
  {
   "cell_type": "markdown",
   "id": "98bc876a",
   "metadata": {},
   "source": [
    "Get names of simulation settings."
   ]
  },
  {
   "cell_type": "code",
   "execution_count": 10,
   "id": "fddfe5cc",
   "metadata": {},
   "outputs": [],
   "source": [
    "str_sims = get_str_sims(tau, fac_beta) # get names of simulation settings"
   ]
  },
  {
   "cell_type": "markdown",
   "id": "d7beab80",
   "metadata": {},
   "source": [
    "Run simulation."
   ]
  },
  {
   "cell_type": "code",
   "execution_count": 11,
   "id": "83efb659",
   "metadata": {
    "scrolled": false
   },
   "outputs": [
    {
     "name": "stdout",
     "output_type": "stream",
     "text": [
      "Simulation start: Thu Jul 28 14:35:24 2022\n",
      "Repetition:  1\n",
      "Parameter combination:  1 / 5\n",
      "No. of dataset:  1 / 7\n",
      "{'rmse': 0.9819123177141645, 'mae': 0.7891803, 'mape': 1.3639995, 'r2': -0.004443916834422579}\n",
      "{'rmse': 0.9828968454626066, 'mae': 0.7882456, 'mape': 1.5193719, 'r2': -0.006459120312276578}\n",
      "No. of dataset:  2 / 7\n",
      "{'rmse': 0.9823380542588184, 'mae': 0.7893557, 'mape': 1.3823245, 'r2': -0.005315026138023038}\n",
      "{'rmse': 0.9819616980492936, 'mae': 0.78768885, 'mape': 1.4931709, 'r2': -0.004544901633303677}\n",
      "No. of dataset:  3 / 7\n",
      "{'rmse': 0.9816481954675065, 'mae': 0.7890432, 'mape': 1.3550012, 'r2': -0.003903627484119987}\n",
      "{'rmse': 0.982328406678725, 'mae': 0.7882923, 'mape': 1.4709934, 'r2': -0.005295311972384642}\n",
      "No. of dataset:  4 / 7\n",
      "{'rmse': 0.9813729786194277, 'mae': 0.7888992, 'mape': 1.3450646, 'r2': -0.0033407183186289213}\n",
      "{'rmse': 0.9820786894854512, 'mae': 0.78783053, 'mape': 1.4909924, 'r2': -0.004784253339322531}\n",
      "No. of dataset:  5 / 7\n",
      "{'rmse': 0.9810737172095662, 'mae': 0.7886166, 'mape': 1.3475242, 'r2': -0.0027289178497595934}\n",
      "{'rmse': 0.9836882663246106, 'mae': 0.7884528, 'mape': 1.5585383, 'r2': -0.00808052499830647}\n",
      "No. of dataset:  6 / 7\n",
      "{'rmse': 0.9811833729568775, 'mae': 0.7887677, 'mape': 1.3414855, 'r2': -0.0029530980295497944}\n",
      "{'rmse': 0.9817577566933741, 'mae': 0.7877843, 'mape': 1.4688334, 'r2': -0.004127691085283658}\n",
      "No. of dataset:  7 / 7\n",
      "{'rmse': 0.9805096621545502, 'mae': 0.7883669, 'mape': 1.3178765, 'r2': -0.0015762618101231585}\n",
      "{'rmse': 0.9872099305515127, 'mae': 0.7894977, 'mape': 1.7776467, 'r2': -0.015311469720200144}\n",
      "Parameter combination:  2 / 5\n",
      "No. of dataset:  1 / 7\n",
      "{'rmse': 0.9969502375799831, 'mae': 0.8053895, 'mape': 3.0378768, 'r2': 0.27904719946120626}\n",
      "{'rmse': 0.99784646009603, 'mae': 0.8061918, 'mape': 3.094333, 'r2': 0.2777504185179972}\n",
      "No. of dataset:  2 / 7\n",
      "{'rmse': 0.9966408816375605, 'mae': 0.80517334, 'mape': 3.0549088, 'r2': 0.27949453334010643}\n",
      "{'rmse': 0.9986208704042825, 'mae': 0.80688, 'mape': 3.112366, 'r2': 0.27662891484060126}\n",
      "No. of dataset:  3 / 7\n",
      "{'rmse': 0.9969614774690246, 'mae': 0.8054623, 'mape': 3.0631855, 'r2': 0.2790309091756489}\n",
      "{'rmse': 0.9975505273971781, 'mae': 0.8059478, 'mape': 3.1093, 'r2': 0.2781787717885904}\n",
      "No. of dataset:  4 / 7\n",
      "{'rmse': 0.997073181925352, 'mae': 0.8055788, 'mape': 3.092056, 'r2': 0.2788693737422737}\n",
      "{'rmse': 0.9973356097625908, 'mae': 0.8057767, 'mape': 3.117747, 'r2': 0.2784896675119549}\n",
      "No. of dataset:  5 / 7\n",
      "{'rmse': 0.9959714627467322, 'mae': 0.8046643, 'mape': 3.093722, 'r2': 0.28046207827298864}\n",
      "{'rmse': 0.9977154564073832, 'mae': 0.8060658, 'mape': 3.0514247, 'r2': 0.27793997380279123}\n",
      "No. of dataset:  6 / 7\n",
      "{'rmse': 0.9968293708714436, 'mae': 0.80537003, 'mape': 3.1288817, 'r2': 0.2792220048375913}\n",
      "{'rmse': 0.996982671489513, 'mae': 0.80551034, 'mape': 3.13151, 'r2': 0.27900030033218437}\n",
      "No. of dataset:  7 / 7\n",
      "{'rmse': 0.9962909877199867, 'mae': 0.8049822, 'mape': 3.2002246, 'r2': 0.28000038004865835}\n",
      "{'rmse': 0.9963278701005381, 'mae': 0.8049807, 'mape': 3.1344414, 'r2': 0.2799470411695071}\n",
      "Elapsed: 12m 57s\n",
      "Repetition:  2\n",
      "Parameter combination:  1 / 5\n",
      "No. of dataset:  1 / 7\n",
      "{'rmse': 0.97795807873605, 'mae': 0.769011, 'mape': 1.4084035, 'r2': 0.024395850520364193}\n",
      "{'rmse': 0.978159064775277, 'mae': 0.7692681, 'mape': 1.399366, 'r2': 0.023994862920940996}\n",
      "No. of dataset:  2 / 7\n",
      "{'rmse': 0.9780532140257476, 'mae': 0.76918274, 'mape': 1.4025683, 'r2': 0.02420604976917251}\n",
      "{'rmse': 0.9782088478395642, 'mae': 0.76938367, 'mape': 1.3982803, 'r2': 0.02389546762468553}\n",
      "No. of dataset:  3 / 7\n",
      "{'rmse': 0.9776704835152822, 'mae': 0.768766, 'mape': 1.4291726, 'r2': 0.024969574679757245}\n",
      "{'rmse': 0.9780192991431509, 'mae': 0.76920533, 'mape': 1.4090253, 'r2': 0.024273786886424564}\n",
      "No. of dataset:  4 / 7\n",
      "{'rmse': 0.9772353943938281, 'mae': 0.76848096, 'mape': 1.4629579, 'r2': 0.02583717449555578}\n",
      "{'rmse': 0.9778274888047706, 'mae': 0.7692771, 'mape': 1.4297693, 'r2': 0.024656323698448945}\n",
      "No. of dataset:  5 / 7\n",
      "{'rmse': 0.9781475478915845, 'mae': 0.76932204, 'mape': 1.3991385, 'r2': 0.024017808852989875}\n",
      "{'rmse': 0.978366223653759, 'mae': 0.76960343, 'mape': 1.393027, 'r2': 0.023581404538853712}\n",
      "No. of dataset:  6 / 7\n",
      "{'rmse': 0.9774445174586281, 'mae': 0.76858175, 'mape': 1.4459412, 'r2': 0.025420200998022002}\n",
      "{'rmse': 0.9783488910116064, 'mae': 0.7696186, 'mape': 1.3949478, 'r2': 0.02361585772072583}\n",
      "No. of dataset:  7 / 7\n",
      "{'rmse': 0.9774335409826139, 'mae': 0.76910084, 'mape': 1.4728264, 'r2': 0.025442088894083725}\n",
      "{'rmse': 0.979423239079242, 'mae': 0.7709773, 'mape': 1.4000502, 'r2': 0.021470372130183768}\n",
      "Parameter combination:  2 / 5\n",
      "No. of dataset:  1 / 7\n",
      "{'rmse': 0.9679378981826839, 'mae': 0.7721524, 'mape': 6.014775, 'r2': 0.2615980407913844}\n",
      "{'rmse': 0.9683386021425321, 'mae': 0.77246046, 'mape': 6.0203767, 'r2': 0.260986511922915}\n",
      "No. of dataset:  2 / 7\n",
      "{'rmse': 0.9680652043868005, 'mae': 0.7722501, 'mape': 6.0060625, 'r2': 0.2614037387047342}\n",
      "{'rmse': 0.9684122788972398, 'mae': 0.77251846, 'mape': 6.0142636, 'r2': 0.2608741032813354}\n",
      "No. of dataset:  3 / 7\n",
      "{'rmse': 0.9681043626864886, 'mae': 0.7723696, 'mape': 6.02696, 'r2': 0.26134399416558685}\n",
      "{'rmse': 0.9686463823585966, 'mae': 0.77284193, 'mape': 6.030412, 'r2': 0.2605166410429455}\n",
      "No. of dataset:  4 / 7\n",
      "{'rmse': 0.9679326331641346, 'mae': 0.7724249, 'mape': 6.0867057, 'r2': 0.26160606037085643}\n",
      "{'rmse': 0.9687098525557424, 'mae': 0.7731144, 'mape': 6.0841937, 'r2': 0.26041974684435876}\n",
      "No. of dataset:  5 / 7\n",
      "{'rmse': 0.9682687056034952, 'mae': 0.7724126, 'mape': 5.9941688, 'r2': 0.2610931947304389}\n",
      "{'rmse': 0.9687147749372527, 'mae': 0.7727964, 'mape': 6.0013485, 'r2': 0.2604122101242632}\n",
      "No. of dataset:  6 / 7\n",
      "{'rmse': 0.9692746864227231, 'mae': 0.7735082, 'mape': 6.001297, 'r2': 0.25955702726387264}\n",
      "{'rmse': 0.9699599493252984, 'mae': 0.77410746, 'mape': 6.006356, 'r2': 0.2585096516035019}\n",
      "No. of dataset:  7 / 7\n",
      "{'rmse': 0.9710865146309109, 'mae': 0.7754422, 'mape': 6.061792, 'r2': 0.256786279903498}\n",
      "{'rmse': 0.9712768332998102, 'mae': 0.7755443, 'mape': 6.064334, 'r2': 0.2564949772329066}\n",
      "Elapsed: 25m 37s\n",
      "Simulation end: Thu Jul 28 15:01:01 2022\n"
     ]
    }
   ],
   "source": [
    "# start timer\n",
    "timer_start = time.time()\n",
    "print('Simulation start: %s' %time.ctime(int(timer_start)))\n",
    "\n",
    "# delete all files in Temp folder\n",
    "emtpy_temp(path+'Temp/')\n",
    "\n",
    "# run specified number of repetitions\n",
    "for i in range(reps):\n",
    "    \n",
    "    # print repetition\n",
    "    print('Repetition: ',i+1)\n",
    "    \n",
    "    # seed\n",
    "    np.random.seed(i)\n",
    "    \n",
    "    # delete all simulation files in Temp folder\n",
    "    del_sim(path+'Temp/')\n",
    "    \n",
    "    # simulate data for given setting and parameters(save csv-files in Temp)\n",
    "    sim_data(setting=setting, params=params, tau=tau, fac_beta=fac_beta, test_size=test_size, l=sim_length, path=path+'Temp/', lags=1, verbose=False)\n",
    "    \n",
    "    # split all data into train, val, and test (save nzp-files in Temp)\n",
    "    split_data(setting=setting, params=params, path=path+'Temp/', test_size=test_size, val_size=val_size)\n",
    "    \n",
    "    # check simulated data\n",
    "    #sim = pd.read_csv(path+'Temp/sim1.csv' ,sep=',',na_values = 'NA')\n",
    "    #data1 = np.load(path+'Temp/sim2_%s.npz' %sim.columns[0])\n",
    "    #data2 = np.load(path+'Temp/sim2_%s.npz' %sim.columns[1])\n",
    "    #plt.plot(data1['y_test'])\n",
    "    #plt.plot(data2['y_test'])\n",
    "    #plt.show()\n",
    "    #del data1,data2\n",
    "             \n",
    "    # DL forecast\n",
    "    # if DL: get combination forecasts\n",
    "    if str_model == 'RNN' or str_model =='LSTM' or str_model =='GRU':\n",
    "        \n",
    "        #%run \"DL_models.ipynb\" # notebook containing sequential deep learning models\n",
    "        \n",
    "        # random seed for each model\n",
    "        seed = np.random.randint(low=1,high=10000000,size=no_sdl) # number of models to run per dataset(random seeds)\n",
    "        \n",
    "        # set parameters\n",
    "        input_dim = lags                  # number of lagged features in X\n",
    "        hidden_dim = 10                   # number of hidden nodes per layer\n",
    "        layer_dim = 1                     # number of layers\n",
    "        output_dim = 1                    # output dimension (1 for univariate output)\n",
    "        dropout = 0                       # dropout proportion (only before the last sequential layer)\n",
    "        learning_rate = 1e-3              # learning rate for Adam optimizer\n",
    "        weight_decay = 1e-6               # weight decay for Adam optimizer\n",
    "\n",
    "        # save model parameters in dict\n",
    "        model_params = {'input_dim': input_dim, 'hidden_dim' : hidden_dim,'layer_dim' : layer_dim, 'output_dim' : output_dim, 'dropout_prob' : dropout}\n",
    "        \n",
    "        # train model\n",
    "        results = []\n",
    "        ave_results = []\n",
    "        for j in range(len(params)):\n",
    "        #for j in range(2):\n",
    "            print('Parameter combination: ', j+1,'/',len(params))\n",
    "            results_seeds, sim_preds, best_seeds = train_loop(model_name=str_model,model_params=model_params,num_sim=j+1,str_sims=str_sims,path=path, lags = lags, seed=seed, alpha=alpha, batch_size = batch_size)\n",
    "            results.append(np.squeeze(results_seeds[[np.arange(0,len(str_sims))],list(map(int, best_seeds)),:])) # shape: 1 x no. of settings x no. of metrics     \n",
    "    \n",
    "    # save intermediate results\n",
    "    new_results = np.expand_dims(np.asarray(results),axis=1)\n",
    "    if i==0:\n",
    "        np.save(path+'Temp/interm_results.npy',new_results)\n",
    "    else:\n",
    "        prev_results = np.load(path+'Temp/interm_results.npy')\n",
    "        all_results = np.concatenate((prev_results,new_results),axis=1) # shape: no. of params x rep x no. of settings x no. of metrics\n",
    "        np.save(path+'Temp/interm_results.npy',all_results)\n",
    "        del prev_results\n",
    "    \n",
    "    # calculate metrics\n",
    "    arr_results = np.load(path+'Temp/interm_results.npy')\n",
    "    arr_mean, arr_std, arr_min, arr_max, arr_median = get_results(arr_results) # aggregate over reps (axis 1)  \n",
    "    np.savez(path+'Results/'+setting+'_'+str_model+'_EWSLoss_'+str(alpha)+'_'+str(batch_size)+'_results.npz',mean=arr_mean,std=arr_std,minimum=arr_min,maximum=arr_max,median=arr_median)\n",
    "    del arr_results\n",
    "    \n",
    "    if (i < 10) | (i % 50 == 0):\n",
    "        print('Elapsed: %s' %time_format(time.time() - timer_start))\n",
    "\n",
    "print('Simulation end: %s' %time.ctime(int(time.time())))"
   ]
  },
  {
   "cell_type": "code",
   "execution_count": 12,
   "id": "7baf006c",
   "metadata": {},
   "outputs": [
    {
     "name": "stdout",
     "output_type": "stream",
     "text": [
      "(2, 9, 4) (2, 9, 4) (2, 9, 4) (2, 9, 4)\n"
     ]
    }
   ],
   "source": [
    "with np.load(path+'Results/'+setting+'_'+str_model+'_results.npz') as data:\n",
    "    print(data['mean'].shape, data['std'].shape, data['minimum'].shape, data['maximum'].shape)"
   ]
  },
  {
   "cell_type": "code",
   "execution_count": null,
   "id": "b60ebd2c",
   "metadata": {},
   "outputs": [],
   "source": []
  }
 ],
 "metadata": {
  "kernelspec": {
   "display_name": "Python 3 (ipykernel)",
   "language": "python",
   "name": "python3"
  },
  "language_info": {
   "codemirror_mode": {
    "name": "ipython",
    "version": 3
   },
   "file_extension": ".py",
   "mimetype": "text/x-python",
   "name": "python",
   "nbconvert_exporter": "python",
   "pygments_lexer": "ipython3",
   "version": "3.7.12"
  }
 },
 "nbformat": 4,
 "nbformat_minor": 5
}
